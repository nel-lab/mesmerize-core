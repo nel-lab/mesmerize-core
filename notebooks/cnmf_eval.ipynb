{
 "cells": [
  {
   "cell_type": "markdown",
   "id": "2718745b-086c-459d-ade5-f07093669b5b",
   "metadata": {},
   "source": [
    "# CNMF Componenent evaluation\n",
    "\n",
    "This is similar to the last visualization in `cnmf_viz.ipynb` but combines it with component evaluation"
   ]
  },
  {
   "cell_type": "markdown",
   "id": "dfd7d2e9-7ced-4089-abc5-607a3d420ec2",
   "metadata": {},
   "source": [
    "View cmaps with `r_values`, `cnn_preds`, `comp_SNR`\n",
    "\n",
    "Click on components and press `\"g\"` to add to good, `\"b\"` to add to bad."
   ]
  },
  {
   "cell_type": "code",
   "execution_count": 1,
   "id": "94da3a08-de8b-4e95-91c1-3c287f28f4f6",
   "metadata": {
    "pycharm": {
     "name": "#%%\n"
    },
    "tags": []
   },
   "outputs": [
    {
     "name": "stderr",
     "output_type": "stream",
     "text": [
      "2023-09-13 17:31:12.595805: I tensorflow/tsl/cuda/cudart_stub.cc:28] Could not find cuda drivers on your machine, GPU will not be used.\n",
      "2023-09-13 17:31:12.645118: I tensorflow/tsl/cuda/cudart_stub.cc:28] Could not find cuda drivers on your machine, GPU will not be used.\n",
      "2023-09-13 17:31:12.645907: I tensorflow/core/platform/cpu_feature_guard.cc:182] This TensorFlow binary is optimized to use available CPU instructions in performance-critical operations.\n",
      "To enable the following instructions: AVX2 FMA, in other operations, rebuild TensorFlow with the appropriate compiler flags.\n",
      "2023-09-13 17:31:13.444315: W tensorflow/compiler/tf2tensorrt/utils/py_utils.cc:38] TF-TRT Warning: Could not find TensorRT\n"
     ]
    }
   ],
   "source": [
    "from mesmerize_core import *\n",
    "import numpy as np\n",
    "import pandas as pd"
   ]
  },
  {
   "cell_type": "code",
   "execution_count": 2,
   "id": "8b545b87-ecd9-485f-95bf-e8503d33e880",
   "metadata": {
    "pycharm": {
     "name": "#%%\n"
    },
    "tags": []
   },
   "outputs": [],
   "source": [
    "from fastplotlib import ImageWidget, Plot, GridPlot\n",
    "import fastplotlib as fpl\n",
    "from fastplotlib.utils import make_colors\n",
    "from ipywidgets import VBox, IntSlider, Layout"
   ]
  },
  {
   "cell_type": "code",
   "execution_count": 3,
   "id": "c6e96b7a-cd03-40e9-880d-7117e0b1e945",
   "metadata": {
    "tags": []
   },
   "outputs": [],
   "source": [
    "pd.options.display.max_colwidth = 120"
   ]
  },
  {
   "cell_type": "markdown",
   "id": "acfdab52-b3b6-4875-8adc-42fa1fcbd48c",
   "metadata": {},
   "source": [
    "# Paths"
   ]
  },
  {
   "cell_type": "code",
   "execution_count": 4,
   "id": "bc817645-0d60-43bd-8126-c08d66c84699",
   "metadata": {
    "pycharm": {
     "name": "#%%\n"
    },
    "tags": []
   },
   "outputs": [],
   "source": [
    "# for this demo set this dir as the path to your `caiman_data` dir\n",
    "set_parent_raw_data_path(\"/home/kushal/caiman_data/\")\n",
    "\n",
    "# batch path\n",
    "batch_path = get_parent_raw_data_path().joinpath(\"mesmerize-batch/batch.pickle\")"
   ]
  },
  {
   "cell_type": "markdown",
   "id": "6c5d98f1-9299-4a08-b180-9e5e967638e0",
   "metadata": {},
   "source": [
    "## Load batch"
   ]
  },
  {
   "cell_type": "code",
   "execution_count": 5,
   "id": "8a705c90-5463-42ae-a484-210c82e6c7a0",
   "metadata": {
    "pycharm": {
     "name": "#%%\n"
    },
    "tags": []
   },
   "outputs": [
    {
     "data": {
      "text/html": [
       "<div>\n",
       "<style scoped>\n",
       "    .dataframe tbody tr th:only-of-type {\n",
       "        vertical-align: middle;\n",
       "    }\n",
       "\n",
       "    .dataframe tbody tr th {\n",
       "        vertical-align: top;\n",
       "    }\n",
       "\n",
       "    .dataframe thead th {\n",
       "        text-align: right;\n",
       "    }\n",
       "</style>\n",
       "<table border=\"1\" class=\"dataframe\">\n",
       "  <thead>\n",
       "    <tr style=\"text-align: right;\">\n",
       "      <th></th>\n",
       "      <th>algo</th>\n",
       "      <th>item_name</th>\n",
       "      <th>input_movie_path</th>\n",
       "      <th>params</th>\n",
       "      <th>outputs</th>\n",
       "      <th>added_time</th>\n",
       "      <th>ran_time</th>\n",
       "      <th>algo_duration</th>\n",
       "      <th>comments</th>\n",
       "      <th>uuid</th>\n",
       "    </tr>\n",
       "  </thead>\n",
       "  <tbody>\n",
       "    <tr>\n",
       "      <th>0</th>\n",
       "      <td>mcorr</td>\n",
       "      <td>Sue_2x_3000_40_-46</td>\n",
       "      <td>example_movies/Sue_2x_3000_40_-46.tif</td>\n",
       "      <td>{'main': {'max_shifts': (6, 6), 'strides': (24, 24), 'overlaps': (12, 12), 'max_deviation_rigid': 3, 'border_nan': '...</td>\n",
       "      <td>{'mean-projection-path': 249713a8-757b-467e-8ae2-4108160378df/249713a8-757b-467e-8ae2-4108160378df_mean_projection.n...</td>\n",
       "      <td>2023-01-28T14:34:58</td>\n",
       "      <td>2023-01-28T14:39:47</td>\n",
       "      <td>64.96 sec</td>\n",
       "      <td>None</td>\n",
       "      <td>249713a8-757b-467e-8ae2-4108160378df</td>\n",
       "    </tr>\n",
       "    <tr>\n",
       "      <th>1</th>\n",
       "      <td>cnmf</td>\n",
       "      <td>Sue_2x_3000_40_-46</td>\n",
       "      <td>249713a8-757b-467e-8ae2-4108160378df/249713a8-757b-467e-8ae2-4108160378df-Sue_2x_3000_40_-46_els__d1_170_d2_170_d3_1...</td>\n",
       "      <td>{'main': {'fr': 30, 'p': 1, 'nb': 2, 'merge_thr': 0.85, 'rf': 15, 'stride': 6, 'K': 4, 'gSig': (4, 4), 'ssub': 1, 't...</td>\n",
       "      <td>{'mean-projection-path': 763c9f74-3847-4b01-af9c-550e2f46f2e5/763c9f74-3847-4b01-af9c-550e2f46f2e5_mean_projection.n...</td>\n",
       "      <td>2023-01-28T14:43:42</td>\n",
       "      <td>2023-01-28T14:44:54</td>\n",
       "      <td>53.65 sec</td>\n",
       "      <td>None</td>\n",
       "      <td>763c9f74-3847-4b01-af9c-550e2f46f2e5</td>\n",
       "    </tr>\n",
       "    <tr>\n",
       "      <th>2</th>\n",
       "      <td>cnmf</td>\n",
       "      <td>Sue_2x_3000_40_-46</td>\n",
       "      <td>249713a8-757b-467e-8ae2-4108160378df/249713a8-757b-467e-8ae2-4108160378df-Sue_2x_3000_40_-46_els__d1_170_d2_170_d3_1...</td>\n",
       "      <td>{'main': {'fr': 30, 'p': 1, 'nb': 2, 'merge_thr': 0.8, 'rf': 15, 'stride': 6, 'K': 4, 'gSig': (6, 6), 'ssub': 1, 'ts...</td>\n",
       "      <td>{'mean-projection-path': 793c72ed-67b7-42dd-bc6c-70edcaf81cb2/793c72ed-67b7-42dd-bc6c-70edcaf81cb2_mean_projection.n...</td>\n",
       "      <td>2023-01-28T14:43:44</td>\n",
       "      <td>2023-01-28T14:46:13</td>\n",
       "      <td>73.42 sec</td>\n",
       "      <td>None</td>\n",
       "      <td>793c72ed-67b7-42dd-bc6c-70edcaf81cb2</td>\n",
       "    </tr>\n",
       "    <tr>\n",
       "      <th>3</th>\n",
       "      <td>cnmf</td>\n",
       "      <td>Sue_2x_3000_40_-46</td>\n",
       "      <td>249713a8-757b-467e-8ae2-4108160378df/249713a8-757b-467e-8ae2-4108160378df-Sue_2x_3000_40_-46_els__d1_170_d2_170_d3_1...</td>\n",
       "      <td>{'main': {'fr': 30, 'p': 1, 'nb': 2, 'merge_thr': 0.95, 'rf': 15, 'stride': 6, 'K': 4, 'gSig': (6, 6), 'ssub': 1, 't...</td>\n",
       "      <td>{'mean-projection-path': d752e113-6241-4866-bb96-c293bbd57e95/d752e113-6241-4866-bb96-c293bbd57e95_mean_projection.n...</td>\n",
       "      <td>2023-01-28T14:43:44</td>\n",
       "      <td>2023-01-28T14:47:32</td>\n",
       "      <td>70.55 sec</td>\n",
       "      <td>None</td>\n",
       "      <td>d752e113-6241-4866-bb96-c293bbd57e95</td>\n",
       "    </tr>\n",
       "    <tr>\n",
       "      <th>4</th>\n",
       "      <td>cnmf</td>\n",
       "      <td>Sue_2x_3000_40_-46</td>\n",
       "      <td>249713a8-757b-467e-8ae2-4108160378df/249713a8-757b-467e-8ae2-4108160378df-Sue_2x_3000_40_-46_els__d1_170_d2_170_d3_1...</td>\n",
       "      <td>{'main': {'fr': 30, 'p': 1, 'nb': 2, 'merge_thr': 0.8, 'rf': 15, 'stride': 6, 'K': 8, 'gSig': (6, 6), 'ssub': 1, 'ts...</td>\n",
       "      <td>{'mean-projection-path': 801ee5c5-bdbb-4b7b-850c-f57d535eee02/801ee5c5-bdbb-4b7b-850c-f57d535eee02_mean_projection.n...</td>\n",
       "      <td>2023-01-28T14:43:44</td>\n",
       "      <td>2023-01-28T14:48:54</td>\n",
       "      <td>76.34 sec</td>\n",
       "      <td>None</td>\n",
       "      <td>801ee5c5-bdbb-4b7b-850c-f57d535eee02</td>\n",
       "    </tr>\n",
       "    <tr>\n",
       "      <th>5</th>\n",
       "      <td>cnmf</td>\n",
       "      <td>Sue_2x_3000_40_-46</td>\n",
       "      <td>249713a8-757b-467e-8ae2-4108160378df/249713a8-757b-467e-8ae2-4108160378df-Sue_2x_3000_40_-46_els__d1_170_d2_170_d3_1...</td>\n",
       "      <td>{'main': {'fr': 30, 'p': 1, 'nb': 2, 'merge_thr': 0.95, 'rf': 15, 'stride': 6, 'K': 8, 'gSig': (6, 6), 'ssub': 1, 't...</td>\n",
       "      <td>{'mean-projection-path': c0f30b7e-5e6c-4177-81bc-042fc410850a/c0f30b7e-5e6c-4177-81bc-042fc410850a_mean_projection.n...</td>\n",
       "      <td>2023-01-28T14:43:44</td>\n",
       "      <td>2023-01-28T14:50:22</td>\n",
       "      <td>81.35 sec</td>\n",
       "      <td>None</td>\n",
       "      <td>c0f30b7e-5e6c-4177-81bc-042fc410850a</td>\n",
       "    </tr>\n",
       "    <tr>\n",
       "      <th>6</th>\n",
       "      <td>cnmf</td>\n",
       "      <td>Sue_2x_3000_40_-46</td>\n",
       "      <td>249713a8-757b-467e-8ae2-4108160378df/249713a8-757b-467e-8ae2-4108160378df-Sue_2x_3000_40_-46_els__d1_170_d2_170_d3_1...</td>\n",
       "      <td>{'main': {'fr': 30, 'p': 1, 'nb': 2, 'merge_thr': 0.8, 'rf': 15, 'stride': 6, 'K': 4, 'gSig': (8, 8), 'ssub': 1, 'ts...</td>\n",
       "      <td>{'mean-projection-path': e666e0b8-323c-487d-91a8-5f798a1fd15a/e666e0b8-323c-487d-91a8-5f798a1fd15a_mean_projection.n...</td>\n",
       "      <td>2023-01-28T14:43:44</td>\n",
       "      <td>2023-01-28T14:51:46</td>\n",
       "      <td>76.99 sec</td>\n",
       "      <td>None</td>\n",
       "      <td>e666e0b8-323c-487d-91a8-5f798a1fd15a</td>\n",
       "    </tr>\n",
       "    <tr>\n",
       "      <th>7</th>\n",
       "      <td>cnmf</td>\n",
       "      <td>Sue_2x_3000_40_-46</td>\n",
       "      <td>249713a8-757b-467e-8ae2-4108160378df/249713a8-757b-467e-8ae2-4108160378df-Sue_2x_3000_40_-46_els__d1_170_d2_170_d3_1...</td>\n",
       "      <td>{'main': {'fr': 30, 'p': 1, 'nb': 2, 'merge_thr': 0.95, 'rf': 15, 'stride': 6, 'K': 4, 'gSig': (8, 8), 'ssub': 1, 't...</td>\n",
       "      <td>{'mean-projection-path': cf2371fd-0fa1-40d9-8d60-c567000f6f4a/cf2371fd-0fa1-40d9-8d60-c567000f6f4a_mean_projection.n...</td>\n",
       "      <td>2023-01-28T14:43:44</td>\n",
       "      <td>2023-01-28T14:53:05</td>\n",
       "      <td>72.49 sec</td>\n",
       "      <td>None</td>\n",
       "      <td>cf2371fd-0fa1-40d9-8d60-c567000f6f4a</td>\n",
       "    </tr>\n",
       "    <tr>\n",
       "      <th>8</th>\n",
       "      <td>cnmf</td>\n",
       "      <td>Sue_2x_3000_40_-46</td>\n",
       "      <td>249713a8-757b-467e-8ae2-4108160378df/249713a8-757b-467e-8ae2-4108160378df-Sue_2x_3000_40_-46_els__d1_170_d2_170_d3_1...</td>\n",
       "      <td>{'main': {'fr': 30, 'p': 1, 'nb': 2, 'merge_thr': 0.8, 'rf': 15, 'stride': 6, 'K': 8, 'gSig': (8, 8), 'ssub': 1, 'ts...</td>\n",
       "      <td>{'mean-projection-path': 81faf8e9-47e4-4f7a-be02-f808801952ea/81faf8e9-47e4-4f7a-be02-f808801952ea_mean_projection.n...</td>\n",
       "      <td>2023-01-28T14:43:44</td>\n",
       "      <td>2023-01-28T14:54:43</td>\n",
       "      <td>91.38 sec</td>\n",
       "      <td>None</td>\n",
       "      <td>81faf8e9-47e4-4f7a-be02-f808801952ea</td>\n",
       "    </tr>\n",
       "    <tr>\n",
       "      <th>9</th>\n",
       "      <td>cnmf</td>\n",
       "      <td>Sue_2x_3000_40_-46</td>\n",
       "      <td>249713a8-757b-467e-8ae2-4108160378df/249713a8-757b-467e-8ae2-4108160378df-Sue_2x_3000_40_-46_els__d1_170_d2_170_d3_1...</td>\n",
       "      <td>{'main': {'fr': 30, 'p': 1, 'nb': 2, 'merge_thr': 0.95, 'rf': 15, 'stride': 6, 'K': 8, 'gSig': (8, 8), 'ssub': 1, 't...</td>\n",
       "      <td>{'mean-projection-path': de7cbd40-3e67-4b48-995e-cbf74baed18b/de7cbd40-3e67-4b48-995e-cbf74baed18b_mean_projection.n...</td>\n",
       "      <td>2023-01-28T14:43:44</td>\n",
       "      <td>2023-01-28T14:56:19</td>\n",
       "      <td>88.83 sec</td>\n",
       "      <td>None</td>\n",
       "      <td>de7cbd40-3e67-4b48-995e-cbf74baed18b</td>\n",
       "    </tr>\n",
       "  </tbody>\n",
       "</table>\n",
       "</div>"
      ],
      "text/plain": [
       "    algo           item_name  \\\n",
       "0  mcorr  Sue_2x_3000_40_-46   \n",
       "1   cnmf  Sue_2x_3000_40_-46   \n",
       "2   cnmf  Sue_2x_3000_40_-46   \n",
       "3   cnmf  Sue_2x_3000_40_-46   \n",
       "4   cnmf  Sue_2x_3000_40_-46   \n",
       "5   cnmf  Sue_2x_3000_40_-46   \n",
       "6   cnmf  Sue_2x_3000_40_-46   \n",
       "7   cnmf  Sue_2x_3000_40_-46   \n",
       "8   cnmf  Sue_2x_3000_40_-46   \n",
       "9   cnmf  Sue_2x_3000_40_-46   \n",
       "\n",
       "                                                                                                          input_movie_path  \\\n",
       "0                                                                                    example_movies/Sue_2x_3000_40_-46.tif   \n",
       "1  249713a8-757b-467e-8ae2-4108160378df/249713a8-757b-467e-8ae2-4108160378df-Sue_2x_3000_40_-46_els__d1_170_d2_170_d3_1...   \n",
       "2  249713a8-757b-467e-8ae2-4108160378df/249713a8-757b-467e-8ae2-4108160378df-Sue_2x_3000_40_-46_els__d1_170_d2_170_d3_1...   \n",
       "3  249713a8-757b-467e-8ae2-4108160378df/249713a8-757b-467e-8ae2-4108160378df-Sue_2x_3000_40_-46_els__d1_170_d2_170_d3_1...   \n",
       "4  249713a8-757b-467e-8ae2-4108160378df/249713a8-757b-467e-8ae2-4108160378df-Sue_2x_3000_40_-46_els__d1_170_d2_170_d3_1...   \n",
       "5  249713a8-757b-467e-8ae2-4108160378df/249713a8-757b-467e-8ae2-4108160378df-Sue_2x_3000_40_-46_els__d1_170_d2_170_d3_1...   \n",
       "6  249713a8-757b-467e-8ae2-4108160378df/249713a8-757b-467e-8ae2-4108160378df-Sue_2x_3000_40_-46_els__d1_170_d2_170_d3_1...   \n",
       "7  249713a8-757b-467e-8ae2-4108160378df/249713a8-757b-467e-8ae2-4108160378df-Sue_2x_3000_40_-46_els__d1_170_d2_170_d3_1...   \n",
       "8  249713a8-757b-467e-8ae2-4108160378df/249713a8-757b-467e-8ae2-4108160378df-Sue_2x_3000_40_-46_els__d1_170_d2_170_d3_1...   \n",
       "9  249713a8-757b-467e-8ae2-4108160378df/249713a8-757b-467e-8ae2-4108160378df-Sue_2x_3000_40_-46_els__d1_170_d2_170_d3_1...   \n",
       "\n",
       "                                                                                                                    params  \\\n",
       "0  {'main': {'max_shifts': (6, 6), 'strides': (24, 24), 'overlaps': (12, 12), 'max_deviation_rigid': 3, 'border_nan': '...   \n",
       "1  {'main': {'fr': 30, 'p': 1, 'nb': 2, 'merge_thr': 0.85, 'rf': 15, 'stride': 6, 'K': 4, 'gSig': (4, 4), 'ssub': 1, 't...   \n",
       "2  {'main': {'fr': 30, 'p': 1, 'nb': 2, 'merge_thr': 0.8, 'rf': 15, 'stride': 6, 'K': 4, 'gSig': (6, 6), 'ssub': 1, 'ts...   \n",
       "3  {'main': {'fr': 30, 'p': 1, 'nb': 2, 'merge_thr': 0.95, 'rf': 15, 'stride': 6, 'K': 4, 'gSig': (6, 6), 'ssub': 1, 't...   \n",
       "4  {'main': {'fr': 30, 'p': 1, 'nb': 2, 'merge_thr': 0.8, 'rf': 15, 'stride': 6, 'K': 8, 'gSig': (6, 6), 'ssub': 1, 'ts...   \n",
       "5  {'main': {'fr': 30, 'p': 1, 'nb': 2, 'merge_thr': 0.95, 'rf': 15, 'stride': 6, 'K': 8, 'gSig': (6, 6), 'ssub': 1, 't...   \n",
       "6  {'main': {'fr': 30, 'p': 1, 'nb': 2, 'merge_thr': 0.8, 'rf': 15, 'stride': 6, 'K': 4, 'gSig': (8, 8), 'ssub': 1, 'ts...   \n",
       "7  {'main': {'fr': 30, 'p': 1, 'nb': 2, 'merge_thr': 0.95, 'rf': 15, 'stride': 6, 'K': 4, 'gSig': (8, 8), 'ssub': 1, 't...   \n",
       "8  {'main': {'fr': 30, 'p': 1, 'nb': 2, 'merge_thr': 0.8, 'rf': 15, 'stride': 6, 'K': 8, 'gSig': (8, 8), 'ssub': 1, 'ts...   \n",
       "9  {'main': {'fr': 30, 'p': 1, 'nb': 2, 'merge_thr': 0.95, 'rf': 15, 'stride': 6, 'K': 8, 'gSig': (8, 8), 'ssub': 1, 't...   \n",
       "\n",
       "                                                                                                                   outputs  \\\n",
       "0  {'mean-projection-path': 249713a8-757b-467e-8ae2-4108160378df/249713a8-757b-467e-8ae2-4108160378df_mean_projection.n...   \n",
       "1  {'mean-projection-path': 763c9f74-3847-4b01-af9c-550e2f46f2e5/763c9f74-3847-4b01-af9c-550e2f46f2e5_mean_projection.n...   \n",
       "2  {'mean-projection-path': 793c72ed-67b7-42dd-bc6c-70edcaf81cb2/793c72ed-67b7-42dd-bc6c-70edcaf81cb2_mean_projection.n...   \n",
       "3  {'mean-projection-path': d752e113-6241-4866-bb96-c293bbd57e95/d752e113-6241-4866-bb96-c293bbd57e95_mean_projection.n...   \n",
       "4  {'mean-projection-path': 801ee5c5-bdbb-4b7b-850c-f57d535eee02/801ee5c5-bdbb-4b7b-850c-f57d535eee02_mean_projection.n...   \n",
       "5  {'mean-projection-path': c0f30b7e-5e6c-4177-81bc-042fc410850a/c0f30b7e-5e6c-4177-81bc-042fc410850a_mean_projection.n...   \n",
       "6  {'mean-projection-path': e666e0b8-323c-487d-91a8-5f798a1fd15a/e666e0b8-323c-487d-91a8-5f798a1fd15a_mean_projection.n...   \n",
       "7  {'mean-projection-path': cf2371fd-0fa1-40d9-8d60-c567000f6f4a/cf2371fd-0fa1-40d9-8d60-c567000f6f4a_mean_projection.n...   \n",
       "8  {'mean-projection-path': 81faf8e9-47e4-4f7a-be02-f808801952ea/81faf8e9-47e4-4f7a-be02-f808801952ea_mean_projection.n...   \n",
       "9  {'mean-projection-path': de7cbd40-3e67-4b48-995e-cbf74baed18b/de7cbd40-3e67-4b48-995e-cbf74baed18b_mean_projection.n...   \n",
       "\n",
       "            added_time             ran_time algo_duration comments  \\\n",
       "0  2023-01-28T14:34:58  2023-01-28T14:39:47     64.96 sec     None   \n",
       "1  2023-01-28T14:43:42  2023-01-28T14:44:54     53.65 sec     None   \n",
       "2  2023-01-28T14:43:44  2023-01-28T14:46:13     73.42 sec     None   \n",
       "3  2023-01-28T14:43:44  2023-01-28T14:47:32     70.55 sec     None   \n",
       "4  2023-01-28T14:43:44  2023-01-28T14:48:54     76.34 sec     None   \n",
       "5  2023-01-28T14:43:44  2023-01-28T14:50:22     81.35 sec     None   \n",
       "6  2023-01-28T14:43:44  2023-01-28T14:51:46     76.99 sec     None   \n",
       "7  2023-01-28T14:43:44  2023-01-28T14:53:05     72.49 sec     None   \n",
       "8  2023-01-28T14:43:44  2023-01-28T14:54:43     91.38 sec     None   \n",
       "9  2023-01-28T14:43:44  2023-01-28T14:56:19     88.83 sec     None   \n",
       "\n",
       "                                   uuid  \n",
       "0  249713a8-757b-467e-8ae2-4108160378df  \n",
       "1  763c9f74-3847-4b01-af9c-550e2f46f2e5  \n",
       "2  793c72ed-67b7-42dd-bc6c-70edcaf81cb2  \n",
       "3  d752e113-6241-4866-bb96-c293bbd57e95  \n",
       "4  801ee5c5-bdbb-4b7b-850c-f57d535eee02  \n",
       "5  c0f30b7e-5e6c-4177-81bc-042fc410850a  \n",
       "6  e666e0b8-323c-487d-91a8-5f798a1fd15a  \n",
       "7  cf2371fd-0fa1-40d9-8d60-c567000f6f4a  \n",
       "8  81faf8e9-47e4-4f7a-be02-f808801952ea  \n",
       "9  de7cbd40-3e67-4b48-995e-cbf74baed18b  "
      ]
     },
     "execution_count": 5,
     "metadata": {},
     "output_type": "execute_result"
    }
   ],
   "source": [
    "df = load_batch(batch_path)\n",
    "df"
   ]
  },
  {
   "cell_type": "code",
   "execution_count": 6,
   "id": "4d9e8e90-489f-407e-a7c2-5eb29e0413c0",
   "metadata": {
    "tags": []
   },
   "outputs": [],
   "source": [
    "# You can change this to plot the outputs for different batch items\n",
    "index = 1\n",
    "\n",
    "# get the motion corrected input movie as a memmap\n",
    "cnmf_movie = df.iloc[index].caiman.get_input_movie()\n",
    "\n",
    "# we can get the contours of the spatial components\n",
    "contours, coms = df.iloc[index].cnmf.get_contours(\"all\", swap_dim=False)\n",
    "\n",
    "# and temporal components\n",
    "temporal = df.iloc[index].cnmf.get_temporal(\"all\")\n",
    "\n",
    "ixs_good = df.iloc[index].cnmf.get_good_components()\n",
    "ixs_bad = df.iloc[index].cnmf.get_bad_components()\n",
    "\n",
    "cnmf_obj = df.iloc[index].cnmf.get_output()"
   ]
  },
  {
   "cell_type": "code",
   "execution_count": 7,
   "id": "a2d24cc2-e894-4a97-b94b-8f5604025294",
   "metadata": {
    "tags": []
   },
   "outputs": [
    {
     "data": {
      "text/plain": [
       "array([-0.19361374, -0.00949474,  0.00407735,  0.00752061,  0.0455527 ,\n",
       "        0.06338128,  0.14284822,  0.178913  ,  0.18812583,  0.20340175,\n",
       "        0.20821301,  0.24875042,  0.28352687,  0.3000297 ,  0.31562525,\n",
       "        0.32752661,  0.34441137,  0.36287603,  0.37505743,  0.37657836,\n",
       "        0.37759387,  0.38364619,  0.38382803,  0.39640055,  0.400456  ,\n",
       "        0.41895753,  0.44048346,  0.4434426 ,  0.44839013,  0.44913824,\n",
       "        0.45965112,  0.47577452,  0.47721189,  0.48324424,  0.48630713,\n",
       "        0.4882223 ,  0.50031692,  0.50290923,  0.50680938,  0.50682529,\n",
       "        0.50868902,  0.51604752,  0.51657422,  0.51796221,  0.51894629,\n",
       "        0.52217315,  0.53642356,  0.54972932,  0.54997323,  0.55028125,\n",
       "        0.55152869,  0.55249284,  0.55395974,  0.55498703,  0.55965712,\n",
       "        0.56667751,  0.56816878,  0.58273456,  0.5927396 ,  0.59968885,\n",
       "        0.60124461,  0.60183404,  0.60691893,  0.62157624,  0.6240117 ,\n",
       "        0.62529828,  0.63185491,  0.63543728,  0.63690499,  0.64353521,\n",
       "        0.64357307,  0.64551567,  0.65278678,  0.66739444,  0.67048751,\n",
       "        0.67210985,  0.6748384 ,  0.67947498,  0.68092684,  0.68741295,\n",
       "        0.68822681,  0.69382856,  0.70376328,  0.70779502,  0.70938552,\n",
       "        0.71002418,  0.71057253,  0.71624479,  0.73604672,  0.73620688,\n",
       "        0.73621961,  0.74374291,  0.74474893,  0.74935352,  0.75142955,\n",
       "        0.75329005,  0.76516653,  0.76535947,  0.7711853 ,  0.77587526,\n",
       "        0.78421381,  0.78535586,  0.78599486,  0.7865093 ,  0.79169013,\n",
       "        0.7921956 ,  0.7928152 ,  0.80146743,  0.80508583,  0.8063106 ,\n",
       "        0.813111  ,  0.81617763,  0.81619936,  0.81811211,  0.81961012,\n",
       "        0.82417012,  0.82418443,  0.82521251,  0.83324333,  0.83807443,\n",
       "        0.84346158,  0.84371027,  0.84630641,  0.8489616 ,  0.85844162,\n",
       "        0.86992275,  0.87164713,  0.872939  ,  0.87389286,  0.87568354,\n",
       "        0.87616459,  0.87851453,  0.88327073,  0.8992928 ,  0.90638452,\n",
       "        0.90819619,  0.90984448,  0.91249569,  0.91279473,  0.91810387,\n",
       "        0.91866504,  0.91988691,  0.92344882,  0.9333619 ,  0.93345824,\n",
       "        0.93436173,  0.93693507,  0.94338139,  0.94367154,  0.9502273 ,\n",
       "        0.95150086,  0.95592123,  0.95852352,  0.96338877,  0.97682051])"
      ]
     },
     "execution_count": 7,
     "metadata": {},
     "output_type": "execute_result"
    }
   ],
   "source": [
    "np.sort(cnmf_obj.estimates.r_values)"
   ]
  },
  {
   "cell_type": "code",
   "execution_count": 8,
   "id": "cd5deeae-302d-4517-a68d-148bcfa8d4d1",
   "metadata": {
    "tags": []
   },
   "outputs": [],
   "source": [
    "rcm = df.iloc[index].cnmf.get_rcm()\n",
    "corr_img = df.iloc[index].caiman.get_corr_image()"
   ]
  },
  {
   "cell_type": "code",
   "execution_count": 9,
   "id": "1c6e5a95-b0f0-480c-b666-b06ae850b0a1",
   "metadata": {
    "tags": []
   },
   "outputs": [],
   "source": [
    "class DummyMovie:\n",
    "    def __init__(self, image: np.ndarray, shape, ndim, size):\n",
    "        self.image = image\n",
    "        self.shape = shape\n",
    "        self.ndim = ndim\n",
    "        self.size = size\n",
    "        \n",
    "    def __getitem__(self, index: int):\n",
    "        return self.image"
   ]
  },
  {
   "cell_type": "code",
   "execution_count": 26,
   "id": "3bbfbebf-9bc6-47d9-8eee-8ca830449553",
   "metadata": {
    "tags": []
   },
   "outputs": [],
   "source": [
    "from ipywidgets import RadioButtons, FloatSlider"
   ]
  },
  {
   "cell_type": "code",
   "execution_count": 35,
   "id": "4961d94b-77d1-4407-8ae8-776d0eabfcde",
   "metadata": {
    "tags": []
   },
   "outputs": [
    {
     "data": {
      "application/vnd.jupyter.widget-view+json": {
       "model_id": "14edb5b9d4574618bb9f152885c81f4a",
       "version_major": 2,
       "version_minor": 0
      },
      "text/plain": [
       "RFBOutputContext()"
      ]
     },
     "metadata": {},
     "output_type": "display_data"
    },
    {
     "data": {
      "application/vnd.jupyter.widget-view+json": {
       "model_id": "c4799180407d455fac27531eb22d355c",
       "version_major": 2,
       "version_minor": 0
      },
      "text/plain": [
       "RFBOutputContext()"
      ]
     },
     "metadata": {},
     "output_type": "display_data"
    },
    {
     "data": {
      "application/vnd.jupyter.widget-view+json": {
       "model_id": "44fb94a902b8482e894885a7edef887c",
       "version_major": 2,
       "version_minor": 0
      },
      "text/plain": [
       "RFBOutputContext()"
      ]
     },
     "metadata": {},
     "output_type": "display_data"
    },
    {
     "data": {
      "application/vnd.jupyter.widget-view+json": {
       "model_id": "b7f458598b7146acb65b601aa4c1c1cb",
       "version_major": 2,
       "version_minor": 0
      },
      "text/plain": [
       "VBox(children=(VBox(children=(JupyterWgpuCanvas(), HBox(children=(Button(icon='expand-arrows-alt', layout=Layo…"
      ]
     },
     "execution_count": 35,
     "metadata": {},
     "output_type": "execute_result"
    }
   ],
   "source": [
    "# 2 x 2 gridplot\n",
    "# |=====================|\n",
    "# |  movie |    rcm     |\n",
    "# |---------------------|\n",
    "# | corr  |  temporal   |\n",
    "# |=====================|\n",
    "cnmf_grid = GridPlot(\n",
    "    shape=(1, 3), \n",
    "    controllers=\"sync\", \n",
    "    names=[[\"movie\", \"rcm\", \"corr\"]]\n",
    ")\n",
    "\n",
    "corr_img_movie = DummyMovie(corr_img, shape=cnmf_movie.shape, ndim=cnmf_movie.ndim, size=cnmf_movie.size)\n",
    "\n",
    "iw = fpl.ImageWidget(\n",
    "    [cnmf_movie, rcm, corr_img_movie],\n",
    "    vmin_vmax_sliders=True,\n",
    "    names=[\"movie\", \"rcm\", \"corr\"],\n",
    "    cmap=\"gnuplot2\"\n",
    ")\n",
    "\n",
    "snr_comps_log = np.log10(cnmf_obj.estimates.SNR_comp)\n",
    "r_values = cnmf_obj.estimates.r_values\n",
    "cnn_preds = cnmf_obj.estimates.cnn_preds\n",
    "\n",
    "# add contours to both movie and rcm subplots\n",
    "contours_movie = iw.gridplot[\"movie\"].add_line_collection(\n",
    "    contours,\n",
    "    cmap=\"spring\",\n",
    "    cmap_values=np.log(snr_comps),\n",
    "    thickness=3,\n",
    "    name=\"contours\",\n",
    ")\n",
    "\n",
    "contours_rcm = iw.gridplot[\"rcm\"].add_line_collection(\n",
    "    contours,\n",
    "    cmap=\"spring\",\n",
    "    cmap_values=np.log(snr_comps),\n",
    "    thickness=3,\n",
    "    name=\"contours\",\n",
    ")\n",
    "\n",
    "contours_corr = iw.gridplot[\"corr\"].add_line_collection(\n",
    "    contours,\n",
    "    cmap=\"spring\",\n",
    "    cmap_values=np.log(snr_comps),\n",
    "    thickness=3,\n",
    "    name=\"contours\",\n",
    ")\n",
    "\n",
    "# plot single temporal, just like before\n",
    "plot_temporal_single = Plot()\n",
    "temporal_graphic = plot_temporal_single.add_line_collection(temporal, colors=\"w\")\n",
    "\n",
    "radio_eval_metrics = RadioButtons(\n",
    "    options=[\"snr\", \"r_values\", \"cnn_preds\"],\n",
    "    value=\"snr\",\n",
    "    description=\"current eval colors\"\n",
    ")\n",
    "\n",
    "def change_eval_metric(change):\n",
    "    value = change[\"new\"]\n",
    "    \n",
    "    current_bad_ixs = cnmf_obj.estimates.idx_components_bad\n",
    "    \n",
    "    if value == \"snr\":\n",
    "        contours_rcm.cmap_values = snr_comps_log\n",
    "        contours_movie.cmap_values = snr_comps_log\n",
    "        contours_corr.cmap_values = snr_comps_log\n",
    "        \n",
    "    elif value == \"r_values\":\n",
    "        contours_rcm.cmap_values = r_values\n",
    "        contours_movie.cmap_values = r_values\n",
    "        contours_corr.cmap_values = r_values\n",
    "    \n",
    "    elif value == \"cnn_preds\":\n",
    "        contours_rcm.cmap_values = cnn_preds\n",
    "        contours_movie.cmap_values = cnn_preds\n",
    "        contours_corr.cmap_values = cnn_preds\n",
    "        \n",
    "    contours_rcm[current_bad_ixs].colors = \"w\"\n",
    "    contours_movie[current_bad_ixs].colors = \"w\"\n",
    "    contours_corr[current_bad_ixs].colors = \"w\"\n",
    "        \n",
    "radio_eval_metrics.observe(change_eval_metric, \"value\")\n",
    "\n",
    "slider_min_snr = FloatSlider(\n",
    "    min=snr_comps.min(), \n",
    "    max=snr_comps.max(), \n",
    "    value=cnmf_obj.params.get_group(\"quality\")[\"min_SNR\"],\n",
    "    step=(snr_comps.max() - snr_comps.min()) / 100,\n",
    "    description=\"min_SNR\",\n",
    ")\n",
    "\n",
    "\n",
    "def update_eval(change):\n",
    "    new_params = {\n",
    "        \"min_SNR\": slider_min_snr.value\n",
    "    }\n",
    "    \n",
    "    cnmf_obj.params.quality.update(new_params)\n",
    "    cnmf_obj.estimates.filter_components(cnmf_movie, cnmf_obj.params)\n",
    "    change_eval_metric({\"new\": radio_eval_metrics.value})\n",
    "    \n",
    "\n",
    "slider_min_snr.observe(update_eval, \"value\")\n",
    "    \n",
    "VBox([plot_temporal_single.show(), iw.show(), radio_eval_metrics, slider_min_snr])"
   ]
  },
  {
   "cell_type": "code",
   "execution_count": 48,
   "id": "010824df-9736-4884-ac49-0ea7fac71129",
   "metadata": {
    "tags": []
   },
   "outputs": [],
   "source": [
    "df.iloc[1].cnmf.run_detrend_dfof()"
   ]
  },
  {
   "cell_type": "code",
   "execution_count": 49,
   "id": "16442494-d3f8-4ba4-9c7f-754182183b4e",
   "metadata": {
    "tags": []
   },
   "outputs": [
    {
     "data": {
      "text/plain": [
       "PosixPath('/home/kushal/caiman_data/mesmerize-batch/763c9f74-3847-4b01-af9c-550e2f46f2e5/763c9f74-3847-4b01-af9c-550e2f46f2e5.hdf5')"
      ]
     },
     "execution_count": 49,
     "metadata": {},
     "output_type": "execute_result"
    }
   ],
   "source": [
    "df.iloc[1].cnmf.get_output_path()"
   ]
  },
  {
   "cell_type": "code",
   "execution_count": 50,
   "id": "77313f1a-fb1e-4a3d-ae8f-e140dbeaf819",
   "metadata": {
    "tags": []
   },
   "outputs": [],
   "source": [
    "import h5py"
   ]
  },
  {
   "cell_type": "code",
   "execution_count": 51,
   "id": "765147a9-6438-4d53-aec9-85b99238dab3",
   "metadata": {
    "tags": []
   },
   "outputs": [],
   "source": [
    "h5_path = df.iloc[1].cnmf.get_output_path()\n",
    "\n",
    "f = h5py.File(h5_path)"
   ]
  },
  {
   "cell_type": "code",
   "execution_count": 52,
   "id": "a8a7a302-3656-46d1-9a43-c10a091af0cd",
   "metadata": {
    "tags": []
   },
   "outputs": [
    {
     "data": {
      "text/plain": [
       "<KeysViewHDF5 ['dims', 'dview', 'estimates', 'params', 'remove_very_bad_comps', 'skip_refinement']>"
      ]
     },
     "execution_count": 52,
     "metadata": {},
     "output_type": "execute_result"
    }
   ],
   "source": [
    "f.keys()"
   ]
  },
  {
   "cell_type": "code",
   "execution_count": 53,
   "id": "06a64642-bcd8-4ab6-b2ae-6b32c3356b48",
   "metadata": {
    "tags": []
   },
   "outputs": [
    {
     "data": {
      "text/plain": [
       "<KeysViewHDF5 ['A', 'A_thr', 'Ab', 'Ab_dense', 'AtA', 'AtY_buf', 'C', 'CC', 'CY', 'C_on', 'Cf', 'F_dff', 'OASISinstances', 'R', 'S', 'SNR_comp', 'W', 'YrA', 'Yr_buf', 'b', 'b0', 'bl', 'c1', 'center', 'cnn_preds', 'dims', 'discarded_components', 'ecc', 'f', 'g', 'idx_components', 'idx_components_bad', 'ind_new', 'lam', 'mn', 'neurons_sn', 'noisyC', 'nr', 'psx', 'r_values', 'rho_buf', 'shifts', 'sn', 'sv', 'vr']>"
      ]
     },
     "execution_count": 53,
     "metadata": {},
     "output_type": "execute_result"
    }
   ],
   "source": [
    "f[\"estimates\"].keys()"
   ]
  },
  {
   "cell_type": "code",
   "execution_count": 55,
   "id": "cbfd6f8f-06f1-4701-b393-2ba6653b2964",
   "metadata": {
    "tags": []
   },
   "outputs": [
    {
     "data": {
      "text/plain": [
       "array([[-0.02004358,  0.00981987, -0.0128868 , ..., -0.06741492,\n",
       "        -0.02886321,  0.01014399],\n",
       "       [-0.1220207 , -0.01579472,  0.0833003 , ..., -0.00495933,\n",
       "         0.10249602,  0.01094983],\n",
       "       [-0.03787187, -0.03436601,  0.04886   , ...,  0.04343703,\n",
       "         0.1316829 ,  0.09539957],\n",
       "       ...,\n",
       "       [-0.04911215,  0.11291489,  0.07802214, ...,  0.12369123,\n",
       "         0.06761335, -0.09787255],\n",
       "       [-0.0183316 , -0.18923914, -0.14147669, ..., -0.06016275,\n",
       "        -0.00673185, -0.07319726],\n",
       "       [-0.07732914,  0.00380741, -0.07273969, ...,  0.20057677,\n",
       "        -0.05499444,  0.03450985]])"
      ]
     },
     "execution_count": 55,
     "metadata": {},
     "output_type": "execute_result"
    }
   ],
   "source": [
    "f[\"estimates\"][\"F_dff\"][:]"
   ]
  },
  {
   "cell_type": "code",
   "execution_count": 58,
   "id": "af2c4feb-22c4-4701-a087-18e493e09eb1",
   "metadata": {
    "tags": []
   },
   "outputs": [
    {
     "data": {
      "text/plain": [
       "(155, 3000)"
      ]
     },
     "execution_count": 58,
     "metadata": {},
     "output_type": "execute_result"
    }
   ],
   "source": [
    "f[\"estimates\"][\"F_dff\"].shape"
   ]
  },
  {
   "cell_type": "code",
   "execution_count": null,
   "id": "4a244ba3-c40b-4cb4-8107-4d8c87422eeb",
   "metadata": {},
   "outputs": [],
   "source": []
  }
 ],
 "metadata": {
  "kernelspec": {
   "display_name": "Python 3 (ipykernel)",
   "language": "python",
   "name": "python3"
  },
  "language_info": {
   "codemirror_mode": {
    "name": "ipython",
    "version": 3
   },
   "file_extension": ".py",
   "mimetype": "text/x-python",
   "name": "python",
   "nbconvert_exporter": "python",
   "pygments_lexer": "ipython3",
   "version": "3.11.4"
  }
 },
 "nbformat": 4,
 "nbformat_minor": 5
}

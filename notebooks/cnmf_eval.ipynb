{
 "cells": [
  {
   "cell_type": "markdown",
   "id": "2718745b-086c-459d-ade5-f07093669b5b",
   "metadata": {},
   "source": [
    "# CNMF Componenent evaluation\n",
    "\n",
    "This is similar to the last visualization in `cnmf_viz.ipynb` but combines it with component evaluation"
   ]
  },
  {
   "cell_type": "markdown",
   "id": "dfd7d2e9-7ced-4089-abc5-607a3d420ec2",
   "metadata": {},
   "source": [
    "View cmaps with `r_values`, `cnn_preds`, `comp_SNR`\n",
    "\n",
    "Click on components and press `\"g\"` to add to good, `\"b\"` to add to bad."
   ]
  },
  {
   "cell_type": "code",
   "execution_count": null,
   "id": "94da3a08-de8b-4e95-91c1-3c287f28f4f6",
   "metadata": {
    "pycharm": {
     "name": "#%%\n"
    },
    "tags": []
   },
   "outputs": [],
   "source": [
    "from mesmerize_core import *\n",
    "import numpy as np\n",
    "import pandas as pd"
   ]
  },
  {
   "cell_type": "code",
   "execution_count": null,
   "id": "8b545b87-ecd9-485f-95bf-e8503d33e880",
   "metadata": {
    "pycharm": {
     "name": "#%%\n"
    },
    "tags": []
   },
   "outputs": [],
   "source": [
    "from fastplotlib import ImageWidget, Plot, GridPlot\n",
    "import fastplotlib as fpl\n",
    "from fastplotlib.utils import make_colors\n",
    "from ipywidgets import VBox, IntSlider, Layout"
   ]
  },
  {
   "cell_type": "code",
   "execution_count": null,
   "id": "c6e96b7a-cd03-40e9-880d-7117e0b1e945",
   "metadata": {
    "tags": []
   },
   "outputs": [],
   "source": [
    "pd.options.display.max_colwidth = 120"
   ]
  },
  {
   "cell_type": "markdown",
   "id": "acfdab52-b3b6-4875-8adc-42fa1fcbd48c",
   "metadata": {},
   "source": [
    "# Paths"
   ]
  },
  {
   "cell_type": "code",
   "execution_count": null,
   "id": "bc817645-0d60-43bd-8126-c08d66c84699",
   "metadata": {
    "pycharm": {
     "name": "#%%\n"
    },
    "tags": []
   },
   "outputs": [],
   "source": [
    "# for this demo set this dir as the path to your `caiman_data` dir\n",
    "set_parent_raw_data_path(\"/home/kushal/caiman_data/\")\n",
    "\n",
    "# batch path\n",
    "batch_path = get_parent_raw_data_path().joinpath(\"mesmerize-batch/batch.pickle\")"
   ]
  },
  {
   "cell_type": "markdown",
   "id": "6c5d98f1-9299-4a08-b180-9e5e967638e0",
   "metadata": {},
   "source": [
    "## Load batch"
   ]
  },
  {
   "cell_type": "code",
   "execution_count": null,
   "id": "8a705c90-5463-42ae-a484-210c82e6c7a0",
   "metadata": {
    "pycharm": {
     "name": "#%%\n"
    },
    "tags": []
   },
   "outputs": [],
   "source": [
    "df = load_batch(batch_path)\n",
    "df"
   ]
  },
  {
   "cell_type": "code",
   "execution_count": null,
   "id": "4d9e8e90-489f-407e-a7c2-5eb29e0413c0",
   "metadata": {
    "tags": []
   },
   "outputs": [],
   "source": [
    "# You can change this to plot the outputs for different batch items\n",
    "index = 1\n",
    "\n",
    "# get the motion corrected input movie as a memmap\n",
    "cnmf_movie = df.iloc[index].caiman.get_input_movie()\n",
    "\n",
    "# we can get the contours of the spatial components\n",
    "contours, coms = df.iloc[index].cnmf.get_contours(\"all\", swap_dim=False)\n",
    "\n",
    "# and temporal components\n",
    "temporal = df.iloc[index].cnmf.get_temporal(\"all\")\n",
    "\n",
    "ixs_good = df.iloc[index].cnmf.get_good_components()\n",
    "ixs_bad = df.iloc[index].cnmf.get_bad_components()\n",
    "\n",
    "cnmf_obj = df.iloc[index].cnmf.get_output()"
   ]
  },
  {
   "cell_type": "code",
   "execution_count": null,
   "id": "a2d24cc2-e894-4a97-b94b-8f5604025294",
   "metadata": {
    "tags": []
   },
   "outputs": [],
   "source": [
    "np.sort(cnmf_obj.estimates.r_values)"
   ]
  },
  {
   "cell_type": "code",
   "execution_count": null,
   "id": "cd5deeae-302d-4517-a68d-148bcfa8d4d1",
   "metadata": {
    "tags": []
   },
   "outputs": [],
   "source": [
    "rcm = df.iloc[index].cnmf.get_rcm()\n",
    "corr_img = df.iloc[index].caiman.get_corr_image()"
   ]
  },
  {
   "cell_type": "code",
   "execution_count": null,
   "id": "1c6e5a95-b0f0-480c-b666-b06ae850b0a1",
   "metadata": {
    "tags": []
   },
   "outputs": [],
   "source": [
    "class DummyMovie:\n",
    "    def __init__(self, image: np.ndarray, shape, ndim, size):\n",
    "        self.image = image\n",
    "        self.shape = shape\n",
    "        self.ndim = ndim\n",
    "        self.size = size\n",
    "        \n",
    "    def __getitem__(self, index: int):\n",
    "        return self.image"
   ]
  },
  {
   "cell_type": "code",
   "execution_count": null,
   "id": "3bbfbebf-9bc6-47d9-8eee-8ca830449553",
   "metadata": {
    "tags": []
   },
   "outputs": [],
   "source": [
    "from ipywidgets import RadioButtons, FloatSlider"
   ]
  },
  {
   "cell_type": "code",
   "execution_count": null,
   "id": "4961d94b-77d1-4407-8ae8-776d0eabfcde",
   "metadata": {
    "tags": []
   },
   "outputs": [],
   "source": [
    "# 2 x 2 gridplot\n",
    "# |=====================|\n",
    "# |  movie |    rcm     |\n",
    "# |---------------------|\n",
    "# | corr  |  temporal   |\n",
    "# |=====================|\n",
    "cnmf_grid = GridPlot(\n",
    "    shape=(1, 3), \n",
    "    controllers=\"sync\", \n",
    "    names=[[\"movie\", \"rcm\", \"corr\"]]\n",
    ")\n",
    "\n",
    "corr_img_movie = DummyMovie(corr_img, shape=cnmf_movie.shape, ndim=cnmf_movie.ndim, size=cnmf_movie.size)\n",
    "\n",
    "iw = fpl.ImageWidget(\n",
    "    [cnmf_movie, rcm, corr_img_movie],\n",
    "    vmin_vmax_sliders=True,\n",
    "    names=[\"movie\", \"rcm\", \"corr\"],\n",
    "    cmap=\"gnuplot2\"\n",
    ")\n",
    "\n",
    "snr_comps_log = np.log10(cnmf_obj.estimates.SNR_comp)\n",
    "r_values = cnmf_obj.estimates.r_values\n",
    "cnn_preds = cnmf_obj.estimates.cnn_preds\n",
    "\n",
    "# add contours to both movie and rcm subplots\n",
    "contours_movie = iw.gridplot[\"movie\"].add_line_collection(\n",
    "    contours,\n",
    "    cmap=\"spring\",\n",
    "    cmap_values=np.log(snr_comps),\n",
    "    thickness=3,\n",
    "    name=\"contours\",\n",
    ")\n",
    "\n",
    "contours_rcm = iw.gridplot[\"rcm\"].add_line_collection(\n",
    "    contours,\n",
    "    cmap=\"spring\",\n",
    "    cmap_values=np.log(snr_comps),\n",
    "    thickness=3,\n",
    "    name=\"contours\",\n",
    ")\n",
    "\n",
    "contours_corr = iw.gridplot[\"corr\"].add_line_collection(\n",
    "    contours,\n",
    "    cmap=\"spring\",\n",
    "    cmap_values=np.log(snr_comps),\n",
    "    thickness=3,\n",
    "    name=\"contours\",\n",
    ")\n",
    "\n",
    "# plot single temporal, just like before\n",
    "plot_temporal_single = Plot()\n",
    "temporal_graphic = plot_temporal_single.add_line_collection(temporal, colors=\"w\")\n",
    "\n",
    "radio_eval_metrics = RadioButtons(\n",
    "    options=[\"snr\", \"r_values\", \"cnn_preds\"],\n",
    "    value=\"snr\",\n",
    "    description=\"current eval colors\"\n",
    ")\n",
    "\n",
    "def change_eval_metric(change):\n",
    "    value = change[\"new\"]\n",
    "    \n",
    "    current_bad_ixs = df.iloc[index].cnmf.get_output().estimates.idx_components_bad\n",
    "    \n",
    "    if value == \"snr\":\n",
    "        contours_rcm.cmap_values = snr_comps_log\n",
    "        contours_movie.cmap_values = snr_comps_log\n",
    "        contours_corr.cmap_values = snr_comps_log\n",
    "        \n",
    "    elif value == \"r_values\":\n",
    "        contours_rcm.cmap_values = r_values\n",
    "        contours_movie.cmap_values = r_values\n",
    "        contours_corr.cmap_values = r_values\n",
    "    \n",
    "    elif value == \"cnn_preds\":\n",
    "        contours_rcm.cmap_values = cnn_preds\n",
    "        contours_movie.cmap_values = cnn_preds\n",
    "        contours_corr.cmap_values = cnn_preds\n",
    "        \n",
    "    contours_rcm[current_bad_ixs].colors = \"w\"\n",
    "    contours_movie[current_bad_ixs].colors = \"w\"\n",
    "    contours_corr[current_bad_ixs].colors = \"w\"\n",
    "        \n",
    "radio_eval_metrics.observe(change_eval_metric, \"value\")\n",
    "\n",
    "slider_min_snr = FloatSlider(\n",
    "    min=snr_comps.min(), \n",
    "    max=snr_comps.max(), \n",
    "    value=cnmf_obj.params.get_group(\"quality\")[\"min_SNR\"],\n",
    "    step=(snr_comps.max() - snr_comps.min()) / 100,\n",
    "    description=\"min_SNR\",\n",
    ")\n",
    "\n",
    "\n",
    "def update_eval(change):\n",
    "    new_params = {\n",
    "        \"min_SNR\": slider_min_snr.value\n",
    "    }\n",
    "    \n",
    "    df.iloc[index].cnmf.run_eval(new_params)\n",
    "    change_eval_metric({\"new\": radio_eval_metrics.value})\n",
    "    \n",
    "\n",
    "slider_min_snr.observe(update_eval, \"value\")\n",
    "    \n",
    "VBox([plot_temporal_single.show(), iw.show(), radio_eval_metrics, slider_min_snr])"
   ]
  },
  {
   "cell_type": "code",
   "execution_count": null,
   "id": "16442494-d3f8-4ba4-9c7f-754182183b4e",
   "metadata": {
    "tags": []
   },
   "outputs": [],
   "source": [
    "df.iloc[1].cnmf.get_output_path()"
   ]
  },
  {
   "cell_type": "code",
   "execution_count": null,
   "id": "77313f1a-fb1e-4a3d-ae8f-e140dbeaf819",
   "metadata": {
    "tags": []
   },
   "outputs": [],
   "source": [
    "import h5py"
   ]
  },
  {
   "cell_type": "code",
   "execution_count": null,
   "id": "765147a9-6438-4d53-aec9-85b99238dab3",
   "metadata": {
    "tags": []
   },
   "outputs": [],
   "source": [
    "h5_path = df.iloc[1].cnmf.get_output_path()\n",
    "\n",
    "f = h5py.File(h5_path)"
   ]
  },
  {
   "cell_type": "code",
   "execution_count": null,
   "id": "a8a7a302-3656-46d1-9a43-c10a091af0cd",
   "metadata": {
    "tags": []
   },
   "outputs": [],
   "source": [
    "f.keys()"
   ]
  },
  {
   "cell_type": "code",
   "execution_count": null,
   "id": "06a64642-bcd8-4ab6-b2ae-6b32c3356b48",
   "metadata": {
    "tags": []
   },
   "outputs": [],
   "source": [
    "f[\"estimates\"].keys()"
   ]
  },
  {
   "cell_type": "code",
   "execution_count": null,
   "id": "03fc4289-7a22-4c27-9503-0edeb9f54510",
   "metadata": {
    "tags": []
   },
   "outputs": [],
   "source": [
    "f[\"estimates\"][\"idx_components\"][:]"
   ]
  },
  {
   "cell_type": "code",
   "execution_count": null,
   "id": "6519d131-d988-40be-91d8-3d676d273493",
   "metadata": {
    "tags": []
   },
   "outputs": [],
   "source": [
    "f[\"estimates\"][\"idx_components\"][:]"
   ]
  },
  {
   "cell_type": "code",
   "execution_count": null,
   "id": "cbfd6f8f-06f1-4701-b393-2ba6653b2964",
   "metadata": {
    "tags": []
   },
   "outputs": [],
   "source": [
    "f[\"estimates\"][\"F_dff\"][:]"
   ]
  },
  {
   "cell_type": "code",
   "execution_count": null,
   "id": "af2c4feb-22c4-4701-a087-18e493e09eb1",
   "metadata": {
    "tags": []
   },
   "outputs": [],
   "source": [
    "f[\"estimates\"][\"F_dff\"].shape"
   ]
  },
  {
   "cell_type": "code",
   "execution_count": null,
   "id": "4a244ba3-c40b-4cb4-8107-4d8c87422eeb",
   "metadata": {},
   "outputs": [],
   "source": []
  }
 ],
 "metadata": {
  "kernelspec": {
   "display_name": "Python 3 (ipykernel)",
   "language": "python",
   "name": "python3"
  },
  "language_info": {
   "codemirror_mode": {
    "name": "ipython",
    "version": 3
   },
   "file_extension": ".py",
   "mimetype": "text/x-python",
   "name": "python",
   "nbconvert_exporter": "python",
   "pygments_lexer": "ipython3",
   "version": "3.11.4"
  }
 },
 "nbformat": 4,
 "nbformat_minor": 5
}

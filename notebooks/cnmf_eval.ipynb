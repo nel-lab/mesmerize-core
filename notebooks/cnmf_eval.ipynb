{
 "cells": [
  {
   "cell_type": "markdown",
   "id": "2718745b-086c-459d-ade5-f07093669b5b",
   "metadata": {},
   "source": [
    "# CNMF Componenent evaluation\n",
    "\n",
    "This is similar to the last visualization in `cnmf_viz.ipynb` but combines it with component evaluation"
   ]
  },
  {
   "cell_type": "code",
   "execution_count": 1,
   "id": "94da3a08-de8b-4e95-91c1-3c287f28f4f6",
   "metadata": {
    "pycharm": {
     "name": "#%%\n"
    },
    "tags": []
   },
   "outputs": [
    {
     "name": "stderr",
     "output_type": "stream",
     "text": [
      "2023-01-31 00:26:12.503205: I tensorflow/core/platform/cpu_feature_guard.cc:193] This TensorFlow binary is optimized with oneAPI Deep Neural Network Library (oneDNN) to use the following CPU instructions in performance-critical operations:  AVX2 FMA\n",
      "To enable them in other operations, rebuild TensorFlow with the appropriate compiler flags.\n",
      "2023-01-31 00:26:12.646207: W tensorflow/compiler/xla/stream_executor/platform/default/dso_loader.cc:64] Could not load dynamic library 'libcudart.so.11.0'; dlerror: libcudart.so.11.0: cannot open shared object file: No such file or directory; LD_LIBRARY_PATH: /home/kushal/venvs/workshop/lib/python3.9/site-packages/cv2/../../lib64:\n",
      "2023-01-31 00:26:12.646226: I tensorflow/compiler/xla/stream_executor/cuda/cudart_stub.cc:29] Ignore above cudart dlerror if you do not have a GPU set up on your machine.\n",
      "2023-01-31 00:26:13.539859: W tensorflow/compiler/xla/stream_executor/platform/default/dso_loader.cc:64] Could not load dynamic library 'libnvinfer.so.7'; dlerror: libnvinfer.so.7: cannot open shared object file: No such file or directory; LD_LIBRARY_PATH: /home/kushal/venvs/workshop/lib/python3.9/site-packages/cv2/../../lib64:\n",
      "2023-01-31 00:26:13.539949: W tensorflow/compiler/xla/stream_executor/platform/default/dso_loader.cc:64] Could not load dynamic library 'libnvinfer_plugin.so.7'; dlerror: libnvinfer_plugin.so.7: cannot open shared object file: No such file or directory; LD_LIBRARY_PATH: /home/kushal/venvs/workshop/lib/python3.9/site-packages/cv2/../../lib64:\n",
      "2023-01-31 00:26:13.539957: W tensorflow/compiler/tf2tensorrt/utils/py_utils.cc:38] TF-TRT Warning: Cannot dlopen some TensorRT libraries. If you would like to use Nvidia GPU with TensorRT, please make sure the missing libraries mentioned above are installed properly.\n"
     ]
    }
   ],
   "source": [
    "from mesmerize_core import *\n",
    "import numpy as np\n",
    "import pandas as pd\n",
    "\n",
    "from ipywidgets import FloatSlider, FloatText, Label, HBox, VBox, link, Layout\n",
    "from collections import OrderedDict"
   ]
  },
  {
   "cell_type": "code",
   "execution_count": 2,
   "id": "8b545b87-ecd9-485f-95bf-e8503d33e880",
   "metadata": {
    "pycharm": {
     "name": "#%%\n"
    }
   },
   "outputs": [],
   "source": [
    "from fastplotlib import ImageWidget, Plot, GridPlot\n",
    "from fastplotlib.utils import make_colors\n",
    "from fastplotlib.graphics.line_slider import LineSlider"
   ]
  },
  {
   "cell_type": "code",
   "execution_count": 3,
   "id": "c6e96b7a-cd03-40e9-880d-7117e0b1e945",
   "metadata": {},
   "outputs": [],
   "source": [
    "pd.options.display.max_colwidth = 120"
   ]
  },
  {
   "cell_type": "markdown",
   "id": "acfdab52-b3b6-4875-8adc-42fa1fcbd48c",
   "metadata": {},
   "source": [
    "# Paths"
   ]
  },
  {
   "cell_type": "code",
   "execution_count": 4,
   "id": "bc817645-0d60-43bd-8126-c08d66c84699",
   "metadata": {
    "pycharm": {
     "name": "#%%\n"
    }
   },
   "outputs": [],
   "source": [
    "# for this demo set this dir as the path to your `caiman_data` dir\n",
    "set_parent_raw_data_path(\"/home/kushal/caiman_data/\")\n",
    "\n",
    "# batch path\n",
    "batch_path = get_parent_raw_data_path().joinpath(\"mesmerize-batch/batch.pickle\")"
   ]
  },
  {
   "cell_type": "markdown",
   "id": "6c5d98f1-9299-4a08-b180-9e5e967638e0",
   "metadata": {},
   "source": [
    "## Load batch"
   ]
  },
  {
   "cell_type": "code",
   "execution_count": 5,
   "id": "8a705c90-5463-42ae-a484-210c82e6c7a0",
   "metadata": {
    "pycharm": {
     "name": "#%%\n"
    }
   },
   "outputs": [
    {
     "data": {
      "text/html": [
       "<div>\n",
       "<style scoped>\n",
       "    .dataframe tbody tr th:only-of-type {\n",
       "        vertical-align: middle;\n",
       "    }\n",
       "\n",
       "    .dataframe tbody tr th {\n",
       "        vertical-align: top;\n",
       "    }\n",
       "\n",
       "    .dataframe thead th {\n",
       "        text-align: right;\n",
       "    }\n",
       "</style>\n",
       "<table border=\"1\" class=\"dataframe\">\n",
       "  <thead>\n",
       "    <tr style=\"text-align: right;\">\n",
       "      <th></th>\n",
       "      <th>algo</th>\n",
       "      <th>item_name</th>\n",
       "      <th>input_movie_path</th>\n",
       "      <th>params</th>\n",
       "      <th>outputs</th>\n",
       "      <th>added_time</th>\n",
       "      <th>ran_time</th>\n",
       "      <th>algo_duration</th>\n",
       "      <th>comments</th>\n",
       "      <th>uuid</th>\n",
       "    </tr>\n",
       "  </thead>\n",
       "  <tbody>\n",
       "    <tr>\n",
       "      <th>0</th>\n",
       "      <td>mcorr</td>\n",
       "      <td>Sue_2x_3000_40_-46</td>\n",
       "      <td>example_movies/Sue_2x_3000_40_-46.tif</td>\n",
       "      <td>{'main': {'max_shifts': (6, 6), 'strides': (24, 24), 'overlaps': (12, 12), 'max_deviation_rigid': 3, 'border_nan': '...</td>\n",
       "      <td>{'mean-projection-path': 249713a8-757b-467e-8ae2-4108160378df/249713a8-757b-467e-8ae2-4108160378df_mean_projection.n...</td>\n",
       "      <td>2023-01-28T14:34:58</td>\n",
       "      <td>2023-01-28T14:39:47</td>\n",
       "      <td>64.96 sec</td>\n",
       "      <td>None</td>\n",
       "      <td>249713a8-757b-467e-8ae2-4108160378df</td>\n",
       "    </tr>\n",
       "    <tr>\n",
       "      <th>1</th>\n",
       "      <td>cnmf</td>\n",
       "      <td>Sue_2x_3000_40_-46</td>\n",
       "      <td>249713a8-757b-467e-8ae2-4108160378df/249713a8-757b-467e-8ae2-4108160378df-Sue_2x_3000_40_-46_els__d1_170_d2_170_d3_1...</td>\n",
       "      <td>{'main': {'fr': 30, 'p': 1, 'nb': 2, 'merge_thr': 0.85, 'rf': 15, 'stride': 6, 'K': 4, 'gSig': (4, 4), 'ssub': 1, 't...</td>\n",
       "      <td>{'mean-projection-path': 763c9f74-3847-4b01-af9c-550e2f46f2e5/763c9f74-3847-4b01-af9c-550e2f46f2e5_mean_projection.n...</td>\n",
       "      <td>2023-01-28T14:43:42</td>\n",
       "      <td>2023-01-28T14:44:54</td>\n",
       "      <td>53.65 sec</td>\n",
       "      <td>None</td>\n",
       "      <td>763c9f74-3847-4b01-af9c-550e2f46f2e5</td>\n",
       "    </tr>\n",
       "    <tr>\n",
       "      <th>2</th>\n",
       "      <td>cnmf</td>\n",
       "      <td>Sue_2x_3000_40_-46</td>\n",
       "      <td>249713a8-757b-467e-8ae2-4108160378df/249713a8-757b-467e-8ae2-4108160378df-Sue_2x_3000_40_-46_els__d1_170_d2_170_d3_1...</td>\n",
       "      <td>{'main': {'fr': 30, 'p': 1, 'nb': 2, 'merge_thr': 0.8, 'rf': 15, 'stride': 6, 'K': 4, 'gSig': (6, 6), 'ssub': 1, 'ts...</td>\n",
       "      <td>{'mean-projection-path': 793c72ed-67b7-42dd-bc6c-70edcaf81cb2/793c72ed-67b7-42dd-bc6c-70edcaf81cb2_mean_projection.n...</td>\n",
       "      <td>2023-01-28T14:43:44</td>\n",
       "      <td>2023-01-28T14:46:13</td>\n",
       "      <td>73.42 sec</td>\n",
       "      <td>None</td>\n",
       "      <td>793c72ed-67b7-42dd-bc6c-70edcaf81cb2</td>\n",
       "    </tr>\n",
       "    <tr>\n",
       "      <th>3</th>\n",
       "      <td>cnmf</td>\n",
       "      <td>Sue_2x_3000_40_-46</td>\n",
       "      <td>249713a8-757b-467e-8ae2-4108160378df/249713a8-757b-467e-8ae2-4108160378df-Sue_2x_3000_40_-46_els__d1_170_d2_170_d3_1...</td>\n",
       "      <td>{'main': {'fr': 30, 'p': 1, 'nb': 2, 'merge_thr': 0.95, 'rf': 15, 'stride': 6, 'K': 4, 'gSig': (6, 6), 'ssub': 1, 't...</td>\n",
       "      <td>{'mean-projection-path': d752e113-6241-4866-bb96-c293bbd57e95/d752e113-6241-4866-bb96-c293bbd57e95_mean_projection.n...</td>\n",
       "      <td>2023-01-28T14:43:44</td>\n",
       "      <td>2023-01-28T14:47:32</td>\n",
       "      <td>70.55 sec</td>\n",
       "      <td>None</td>\n",
       "      <td>d752e113-6241-4866-bb96-c293bbd57e95</td>\n",
       "    </tr>\n",
       "    <tr>\n",
       "      <th>4</th>\n",
       "      <td>cnmf</td>\n",
       "      <td>Sue_2x_3000_40_-46</td>\n",
       "      <td>249713a8-757b-467e-8ae2-4108160378df/249713a8-757b-467e-8ae2-4108160378df-Sue_2x_3000_40_-46_els__d1_170_d2_170_d3_1...</td>\n",
       "      <td>{'main': {'fr': 30, 'p': 1, 'nb': 2, 'merge_thr': 0.8, 'rf': 15, 'stride': 6, 'K': 8, 'gSig': (6, 6), 'ssub': 1, 'ts...</td>\n",
       "      <td>{'mean-projection-path': 801ee5c5-bdbb-4b7b-850c-f57d535eee02/801ee5c5-bdbb-4b7b-850c-f57d535eee02_mean_projection.n...</td>\n",
       "      <td>2023-01-28T14:43:44</td>\n",
       "      <td>2023-01-28T14:48:54</td>\n",
       "      <td>76.34 sec</td>\n",
       "      <td>None</td>\n",
       "      <td>801ee5c5-bdbb-4b7b-850c-f57d535eee02</td>\n",
       "    </tr>\n",
       "    <tr>\n",
       "      <th>5</th>\n",
       "      <td>cnmf</td>\n",
       "      <td>Sue_2x_3000_40_-46</td>\n",
       "      <td>249713a8-757b-467e-8ae2-4108160378df/249713a8-757b-467e-8ae2-4108160378df-Sue_2x_3000_40_-46_els__d1_170_d2_170_d3_1...</td>\n",
       "      <td>{'main': {'fr': 30, 'p': 1, 'nb': 2, 'merge_thr': 0.95, 'rf': 15, 'stride': 6, 'K': 8, 'gSig': (6, 6), 'ssub': 1, 't...</td>\n",
       "      <td>{'mean-projection-path': c0f30b7e-5e6c-4177-81bc-042fc410850a/c0f30b7e-5e6c-4177-81bc-042fc410850a_mean_projection.n...</td>\n",
       "      <td>2023-01-28T14:43:44</td>\n",
       "      <td>2023-01-28T14:50:22</td>\n",
       "      <td>81.35 sec</td>\n",
       "      <td>None</td>\n",
       "      <td>c0f30b7e-5e6c-4177-81bc-042fc410850a</td>\n",
       "    </tr>\n",
       "    <tr>\n",
       "      <th>6</th>\n",
       "      <td>cnmf</td>\n",
       "      <td>Sue_2x_3000_40_-46</td>\n",
       "      <td>249713a8-757b-467e-8ae2-4108160378df/249713a8-757b-467e-8ae2-4108160378df-Sue_2x_3000_40_-46_els__d1_170_d2_170_d3_1...</td>\n",
       "      <td>{'main': {'fr': 30, 'p': 1, 'nb': 2, 'merge_thr': 0.8, 'rf': 15, 'stride': 6, 'K': 4, 'gSig': (8, 8), 'ssub': 1, 'ts...</td>\n",
       "      <td>{'mean-projection-path': e666e0b8-323c-487d-91a8-5f798a1fd15a/e666e0b8-323c-487d-91a8-5f798a1fd15a_mean_projection.n...</td>\n",
       "      <td>2023-01-28T14:43:44</td>\n",
       "      <td>2023-01-28T14:51:46</td>\n",
       "      <td>76.99 sec</td>\n",
       "      <td>None</td>\n",
       "      <td>e666e0b8-323c-487d-91a8-5f798a1fd15a</td>\n",
       "    </tr>\n",
       "    <tr>\n",
       "      <th>7</th>\n",
       "      <td>cnmf</td>\n",
       "      <td>Sue_2x_3000_40_-46</td>\n",
       "      <td>249713a8-757b-467e-8ae2-4108160378df/249713a8-757b-467e-8ae2-4108160378df-Sue_2x_3000_40_-46_els__d1_170_d2_170_d3_1...</td>\n",
       "      <td>{'main': {'fr': 30, 'p': 1, 'nb': 2, 'merge_thr': 0.95, 'rf': 15, 'stride': 6, 'K': 4, 'gSig': (8, 8), 'ssub': 1, 't...</td>\n",
       "      <td>{'mean-projection-path': cf2371fd-0fa1-40d9-8d60-c567000f6f4a/cf2371fd-0fa1-40d9-8d60-c567000f6f4a_mean_projection.n...</td>\n",
       "      <td>2023-01-28T14:43:44</td>\n",
       "      <td>2023-01-28T14:53:05</td>\n",
       "      <td>72.49 sec</td>\n",
       "      <td>None</td>\n",
       "      <td>cf2371fd-0fa1-40d9-8d60-c567000f6f4a</td>\n",
       "    </tr>\n",
       "    <tr>\n",
       "      <th>8</th>\n",
       "      <td>cnmf</td>\n",
       "      <td>Sue_2x_3000_40_-46</td>\n",
       "      <td>249713a8-757b-467e-8ae2-4108160378df/249713a8-757b-467e-8ae2-4108160378df-Sue_2x_3000_40_-46_els__d1_170_d2_170_d3_1...</td>\n",
       "      <td>{'main': {'fr': 30, 'p': 1, 'nb': 2, 'merge_thr': 0.8, 'rf': 15, 'stride': 6, 'K': 8, 'gSig': (8, 8), 'ssub': 1, 'ts...</td>\n",
       "      <td>{'mean-projection-path': 81faf8e9-47e4-4f7a-be02-f808801952ea/81faf8e9-47e4-4f7a-be02-f808801952ea_mean_projection.n...</td>\n",
       "      <td>2023-01-28T14:43:44</td>\n",
       "      <td>2023-01-28T14:54:43</td>\n",
       "      <td>91.38 sec</td>\n",
       "      <td>None</td>\n",
       "      <td>81faf8e9-47e4-4f7a-be02-f808801952ea</td>\n",
       "    </tr>\n",
       "    <tr>\n",
       "      <th>9</th>\n",
       "      <td>cnmf</td>\n",
       "      <td>Sue_2x_3000_40_-46</td>\n",
       "      <td>249713a8-757b-467e-8ae2-4108160378df/249713a8-757b-467e-8ae2-4108160378df-Sue_2x_3000_40_-46_els__d1_170_d2_170_d3_1...</td>\n",
       "      <td>{'main': {'fr': 30, 'p': 1, 'nb': 2, 'merge_thr': 0.95, 'rf': 15, 'stride': 6, 'K': 8, 'gSig': (8, 8), 'ssub': 1, 't...</td>\n",
       "      <td>{'mean-projection-path': de7cbd40-3e67-4b48-995e-cbf74baed18b/de7cbd40-3e67-4b48-995e-cbf74baed18b_mean_projection.n...</td>\n",
       "      <td>2023-01-28T14:43:44</td>\n",
       "      <td>2023-01-28T14:56:19</td>\n",
       "      <td>88.83 sec</td>\n",
       "      <td>None</td>\n",
       "      <td>de7cbd40-3e67-4b48-995e-cbf74baed18b</td>\n",
       "    </tr>\n",
       "  </tbody>\n",
       "</table>\n",
       "</div>"
      ],
      "text/plain": [
       "    algo           item_name  \\\n",
       "0  mcorr  Sue_2x_3000_40_-46   \n",
       "1   cnmf  Sue_2x_3000_40_-46   \n",
       "2   cnmf  Sue_2x_3000_40_-46   \n",
       "3   cnmf  Sue_2x_3000_40_-46   \n",
       "4   cnmf  Sue_2x_3000_40_-46   \n",
       "5   cnmf  Sue_2x_3000_40_-46   \n",
       "6   cnmf  Sue_2x_3000_40_-46   \n",
       "7   cnmf  Sue_2x_3000_40_-46   \n",
       "8   cnmf  Sue_2x_3000_40_-46   \n",
       "9   cnmf  Sue_2x_3000_40_-46   \n",
       "\n",
       "                                                                                                          input_movie_path  \\\n",
       "0                                                                                    example_movies/Sue_2x_3000_40_-46.tif   \n",
       "1  249713a8-757b-467e-8ae2-4108160378df/249713a8-757b-467e-8ae2-4108160378df-Sue_2x_3000_40_-46_els__d1_170_d2_170_d3_1...   \n",
       "2  249713a8-757b-467e-8ae2-4108160378df/249713a8-757b-467e-8ae2-4108160378df-Sue_2x_3000_40_-46_els__d1_170_d2_170_d3_1...   \n",
       "3  249713a8-757b-467e-8ae2-4108160378df/249713a8-757b-467e-8ae2-4108160378df-Sue_2x_3000_40_-46_els__d1_170_d2_170_d3_1...   \n",
       "4  249713a8-757b-467e-8ae2-4108160378df/249713a8-757b-467e-8ae2-4108160378df-Sue_2x_3000_40_-46_els__d1_170_d2_170_d3_1...   \n",
       "5  249713a8-757b-467e-8ae2-4108160378df/249713a8-757b-467e-8ae2-4108160378df-Sue_2x_3000_40_-46_els__d1_170_d2_170_d3_1...   \n",
       "6  249713a8-757b-467e-8ae2-4108160378df/249713a8-757b-467e-8ae2-4108160378df-Sue_2x_3000_40_-46_els__d1_170_d2_170_d3_1...   \n",
       "7  249713a8-757b-467e-8ae2-4108160378df/249713a8-757b-467e-8ae2-4108160378df-Sue_2x_3000_40_-46_els__d1_170_d2_170_d3_1...   \n",
       "8  249713a8-757b-467e-8ae2-4108160378df/249713a8-757b-467e-8ae2-4108160378df-Sue_2x_3000_40_-46_els__d1_170_d2_170_d3_1...   \n",
       "9  249713a8-757b-467e-8ae2-4108160378df/249713a8-757b-467e-8ae2-4108160378df-Sue_2x_3000_40_-46_els__d1_170_d2_170_d3_1...   \n",
       "\n",
       "                                                                                                                    params  \\\n",
       "0  {'main': {'max_shifts': (6, 6), 'strides': (24, 24), 'overlaps': (12, 12), 'max_deviation_rigid': 3, 'border_nan': '...   \n",
       "1  {'main': {'fr': 30, 'p': 1, 'nb': 2, 'merge_thr': 0.85, 'rf': 15, 'stride': 6, 'K': 4, 'gSig': (4, 4), 'ssub': 1, 't...   \n",
       "2  {'main': {'fr': 30, 'p': 1, 'nb': 2, 'merge_thr': 0.8, 'rf': 15, 'stride': 6, 'K': 4, 'gSig': (6, 6), 'ssub': 1, 'ts...   \n",
       "3  {'main': {'fr': 30, 'p': 1, 'nb': 2, 'merge_thr': 0.95, 'rf': 15, 'stride': 6, 'K': 4, 'gSig': (6, 6), 'ssub': 1, 't...   \n",
       "4  {'main': {'fr': 30, 'p': 1, 'nb': 2, 'merge_thr': 0.8, 'rf': 15, 'stride': 6, 'K': 8, 'gSig': (6, 6), 'ssub': 1, 'ts...   \n",
       "5  {'main': {'fr': 30, 'p': 1, 'nb': 2, 'merge_thr': 0.95, 'rf': 15, 'stride': 6, 'K': 8, 'gSig': (6, 6), 'ssub': 1, 't...   \n",
       "6  {'main': {'fr': 30, 'p': 1, 'nb': 2, 'merge_thr': 0.8, 'rf': 15, 'stride': 6, 'K': 4, 'gSig': (8, 8), 'ssub': 1, 'ts...   \n",
       "7  {'main': {'fr': 30, 'p': 1, 'nb': 2, 'merge_thr': 0.95, 'rf': 15, 'stride': 6, 'K': 4, 'gSig': (8, 8), 'ssub': 1, 't...   \n",
       "8  {'main': {'fr': 30, 'p': 1, 'nb': 2, 'merge_thr': 0.8, 'rf': 15, 'stride': 6, 'K': 8, 'gSig': (8, 8), 'ssub': 1, 'ts...   \n",
       "9  {'main': {'fr': 30, 'p': 1, 'nb': 2, 'merge_thr': 0.95, 'rf': 15, 'stride': 6, 'K': 8, 'gSig': (8, 8), 'ssub': 1, 't...   \n",
       "\n",
       "                                                                                                                   outputs  \\\n",
       "0  {'mean-projection-path': 249713a8-757b-467e-8ae2-4108160378df/249713a8-757b-467e-8ae2-4108160378df_mean_projection.n...   \n",
       "1  {'mean-projection-path': 763c9f74-3847-4b01-af9c-550e2f46f2e5/763c9f74-3847-4b01-af9c-550e2f46f2e5_mean_projection.n...   \n",
       "2  {'mean-projection-path': 793c72ed-67b7-42dd-bc6c-70edcaf81cb2/793c72ed-67b7-42dd-bc6c-70edcaf81cb2_mean_projection.n...   \n",
       "3  {'mean-projection-path': d752e113-6241-4866-bb96-c293bbd57e95/d752e113-6241-4866-bb96-c293bbd57e95_mean_projection.n...   \n",
       "4  {'mean-projection-path': 801ee5c5-bdbb-4b7b-850c-f57d535eee02/801ee5c5-bdbb-4b7b-850c-f57d535eee02_mean_projection.n...   \n",
       "5  {'mean-projection-path': c0f30b7e-5e6c-4177-81bc-042fc410850a/c0f30b7e-5e6c-4177-81bc-042fc410850a_mean_projection.n...   \n",
       "6  {'mean-projection-path': e666e0b8-323c-487d-91a8-5f798a1fd15a/e666e0b8-323c-487d-91a8-5f798a1fd15a_mean_projection.n...   \n",
       "7  {'mean-projection-path': cf2371fd-0fa1-40d9-8d60-c567000f6f4a/cf2371fd-0fa1-40d9-8d60-c567000f6f4a_mean_projection.n...   \n",
       "8  {'mean-projection-path': 81faf8e9-47e4-4f7a-be02-f808801952ea/81faf8e9-47e4-4f7a-be02-f808801952ea_mean_projection.n...   \n",
       "9  {'mean-projection-path': de7cbd40-3e67-4b48-995e-cbf74baed18b/de7cbd40-3e67-4b48-995e-cbf74baed18b_mean_projection.n...   \n",
       "\n",
       "            added_time             ran_time algo_duration comments  \\\n",
       "0  2023-01-28T14:34:58  2023-01-28T14:39:47     64.96 sec     None   \n",
       "1  2023-01-28T14:43:42  2023-01-28T14:44:54     53.65 sec     None   \n",
       "2  2023-01-28T14:43:44  2023-01-28T14:46:13     73.42 sec     None   \n",
       "3  2023-01-28T14:43:44  2023-01-28T14:47:32     70.55 sec     None   \n",
       "4  2023-01-28T14:43:44  2023-01-28T14:48:54     76.34 sec     None   \n",
       "5  2023-01-28T14:43:44  2023-01-28T14:50:22     81.35 sec     None   \n",
       "6  2023-01-28T14:43:44  2023-01-28T14:51:46     76.99 sec     None   \n",
       "7  2023-01-28T14:43:44  2023-01-28T14:53:05     72.49 sec     None   \n",
       "8  2023-01-28T14:43:44  2023-01-28T14:54:43     91.38 sec     None   \n",
       "9  2023-01-28T14:43:44  2023-01-28T14:56:19     88.83 sec     None   \n",
       "\n",
       "                                   uuid  \n",
       "0  249713a8-757b-467e-8ae2-4108160378df  \n",
       "1  763c9f74-3847-4b01-af9c-550e2f46f2e5  \n",
       "2  793c72ed-67b7-42dd-bc6c-70edcaf81cb2  \n",
       "3  d752e113-6241-4866-bb96-c293bbd57e95  \n",
       "4  801ee5c5-bdbb-4b7b-850c-f57d535eee02  \n",
       "5  c0f30b7e-5e6c-4177-81bc-042fc410850a  \n",
       "6  e666e0b8-323c-487d-91a8-5f798a1fd15a  \n",
       "7  cf2371fd-0fa1-40d9-8d60-c567000f6f4a  \n",
       "8  81faf8e9-47e4-4f7a-be02-f808801952ea  \n",
       "9  de7cbd40-3e67-4b48-995e-cbf74baed18b  "
      ]
     },
     "execution_count": 5,
     "metadata": {},
     "output_type": "execute_result"
    }
   ],
   "source": [
    "df = load_batch(batch_path)\n",
    "df"
   ]
  },
  {
   "cell_type": "code",
   "execution_count": 6,
   "id": "4d9e8e90-489f-407e-a7c2-5eb29e0413c0",
   "metadata": {},
   "outputs": [
    {
     "name": "stdout",
     "output_type": "stream",
     "text": [
      "Decode mmap filename /home/kushal/caiman_data/mesmerize-batch/249713a8-757b-467e-8ae2-4108160378df/249713a8-757b-467e-8ae2-4108160378df-Sue_2x_3000_40_-46_els__d1_170_d2_170_d3_1_order_F_frames_3000.mmap\n"
     ]
    }
   ],
   "source": [
    "# You can change this to plot the outputs for different batch items\n",
    "index = 1\n",
    "\n",
    "# get the motion corrected input movie as a memmap\n",
    "cnmf_movie = df.iloc[index].caiman.get_input_movie()\n",
    "\n",
    "# we can get the contours of the spatial components\n",
    "contours, coms = df.iloc[index].cnmf.get_contours(\"all\", swap_dim=False)\n",
    "\n",
    "# and temporal components\n",
    "temporal = df.iloc[index].cnmf.get_temporal(\"all\")\n",
    "\n",
    "ixs_good = df.iloc[index].cnmf.get_good_components()\n",
    "ixs_bad = df.iloc[index].cnmf.get_bad_components()\n",
    "\n",
    "cnmf_obj = df.iloc[index].cnmf.get_output()"
   ]
  },
  {
   "cell_type": "markdown",
   "id": "a469a84d-6584-4843-a5e3-eb75382276f1",
   "metadata": {},
   "source": [
    "## This is just UI layout stuff"
   ]
  },
  {
   "cell_type": "code",
   "execution_count": 7,
   "id": "3beead26-fffc-4dc7-b191-b9a72a6cd8c2",
   "metadata": {
    "tags": []
   },
   "outputs": [],
   "source": [
    "# low thresholds\n",
    "lt = OrderedDict(\n",
    "    rval_lowest=(-1.0, -1.0, 1.0), # (val, min, max)\n",
    "    SNR_lowest=(0.5, 0., 100), \n",
    "    cnn_lowest=(0.1, 0., 1.0),\n",
    ")\n",
    "\n",
    "# high thresholds\n",
    "ht = OrderedDict(\n",
    "    rval_thr=(0.8, 0., 1.0),\n",
    "    min_SNR=(2.5, 0., 100),\n",
    "    min_cnn_thr=(0.9, 0., 1.0),\n",
    ")\n",
    "\n",
    "lw = list()\n",
    "for k in lt:\n",
    "    kwargs = dict(value=lt[k][0], min=lt[k][1], max=lt[k][2], step=0.01, description=k)\n",
    "    slider = FloatSlider(**kwargs)\n",
    "    entry = FloatText(**kwargs, layout=Layout(width=\"150px\"))\n",
    "    \n",
    "    link((slider, \"value\"), (entry, \"value\"))\n",
    "    \n",
    "    lw.append(HBox([slider, entry]))\n",
    "    \n",
    "hw = list()\n",
    "for k in ht:\n",
    "    kwargs = dict(value=ht[k][0], min=ht[k][1], max=ht[k][2], step=0.01, description=k)\n",
    "    slider = FloatSlider(**kwargs)\n",
    "    entry = FloatText(**kwargs, layout=Layout(width=\"150px\"))\n",
    "    \n",
    "    link((slider, \"value\"), (entry, \"value\"))\n",
    "    \n",
    "    hw.append(HBox([slider, entry]))\n",
    "\n",
    "def get_eval_params():\n",
    "    \"\"\"get the values from the GUI\"\"\"\n",
    "    _eval_params = [{w.children[0].description: w.children[0].value for w in ws} for ws in [lw, hw]]\n",
    "    return {**_eval_params[0], **_eval_params[1]}"
   ]
  },
  {
   "cell_type": "markdown",
   "id": "f09d8613-9cd4-45e0-959f-96294464b459",
   "metadata": {},
   "source": [
    "# Visualization code"
   ]
  },
  {
   "cell_type": "code",
   "execution_count": 8,
   "id": "fa8fb7f6-5be6-481f-b208-8f7c8364e9ab",
   "metadata": {},
   "outputs": [
    {
     "data": {
      "application/vnd.jupyter.widget-view+json": {
       "model_id": "",
       "version_major": 2,
       "version_minor": 0
      },
      "text/plain": [
       "RFBOutputContext()"
      ]
     },
     "metadata": {},
     "output_type": "display_data"
    },
    {
     "name": "stderr",
     "output_type": "stream",
     "text": [
      "MESA-INTEL: warning: Performance support disabled, consider sysctl dev.i915.perf_stream_paranoid=0\n",
      "\n",
      "WARNING:wgpu:Disabling presentation on 'Intel(R) UHD Graphics 620 (KBL GT2)' (id 0x9de98c0) because of NV Optimus (on Linux)\n"
     ]
    },
    {
     "data": {
      "application/vnd.jupyter.widget-view+json": {
       "model_id": "",
       "version_major": 2,
       "version_minor": 0
      },
      "text/plain": [
       "VBox(children=(JupyterWgpuCanvas(), IntSlider(value=0, description='dimension: t', max=2999), FloatRangeSlider…"
      ]
     },
     "metadata": {},
     "output_type": "display_data"
    }
   ],
   "source": [
    "# create a simple plot\n",
    "iw = ImageWidget(data=cnmf_movie, vmin_vmax_sliders=True, cmap=\"gray\")\n",
    "iw.show()"
   ]
  },
  {
   "cell_type": "markdown",
   "id": "f0ee0f49-91b7-4b20-86dd-44edf8d4f0b1",
   "metadata": {
    "tags": []
   },
   "source": [
    "# plot all contours\n",
    "note how we didn't set any colors"
   ]
  },
  {
   "cell_type": "code",
   "execution_count": 9,
   "id": "4df1b0fb-87a6-423a-9b56-f258468d2dfc",
   "metadata": {},
   "outputs": [
    {
     "data": {
      "text/plain": [
       "unnamed: Plot @ 0x7f07d5151190\n",
       "  parent: None\n",
       "  Graphics:\n",
       "\t'image': ImageGraphic @ 0x7f07d526d310"
      ]
     },
     "execution_count": 9,
     "metadata": {},
     "output_type": "execute_result"
    }
   ],
   "source": [
    "# remember that we can access the underlying plot within the ImageWidget\n",
    "iw.plot"
   ]
  },
  {
   "cell_type": "code",
   "execution_count": 10,
   "id": "b2a42940-1709-44ec-9fa8-d7c3b3ed5c31",
   "metadata": {},
   "outputs": [
    {
     "data": {
      "text/plain": [
       "'contours': LineCollection @ 0x7f079009cbe0\n",
       "Collection of <155> Graphics"
      ]
     },
     "execution_count": 10,
     "metadata": {},
     "output_type": "execute_result"
    }
   ],
   "source": [
    "# this is just a Plot instance so it behaves just like any Plot\n",
    "iw.plot.add_line_collection(contours, name=\"contours\")"
   ]
  },
  {
   "cell_type": "markdown",
   "id": "4a125cba-771e-40c5-8df4-d2c33d406ce3",
   "metadata": {},
   "source": [
    "# this is a graphic collection"
   ]
  },
  {
   "cell_type": "code",
   "execution_count": 11,
   "id": "c5f3a544-7faf-4a31-94a3-832d2632599d",
   "metadata": {},
   "outputs": [
    {
     "data": {
      "text/plain": [
       "'contours': LineCollection @ 0x7f079009cbe0\n",
       "Collection of <155> Graphics"
      ]
     },
     "execution_count": 11,
     "metadata": {},
     "output_type": "execute_result"
    }
   ],
   "source": [
    "iw.plot[\"contours\"]\n",
    "\n",
    "# can also index like this because it was the second item to be added\n",
    "# this shows why named-indexing is so useful!\n",
    "# iw.plot.graphics[1]"
   ]
  },
  {
   "cell_type": "markdown",
   "id": "aef43811-9899-4002-b146-6560bf3bc416",
   "metadata": {},
   "source": [
    "# take a look at `ixs_good`"
   ]
  },
  {
   "cell_type": "code",
   "execution_count": 12,
   "id": "b9d23356-a874-4bd3-ad45-21c50834e0a6",
   "metadata": {},
   "outputs": [
    {
     "data": {
      "text/plain": [
       "array([  0,  14,  15,  20,  28,  29,  31,  41,  55,  59,  66,  71,  88,\n",
       "        95, 107, 109, 114, 115, 116, 125, 126, 130, 132, 139, 141, 142,\n",
       "       144, 149, 153, 154])"
      ]
     },
     "execution_count": 12,
     "metadata": {},
     "output_type": "execute_result"
    }
   ],
   "source": [
    "ixs_good"
   ]
  },
  {
   "cell_type": "markdown",
   "id": "2b2bcd62-167e-4d30-9b7a-ae3a48d127df",
   "metadata": {},
   "source": [
    "# Graphics collections support fancy indexing! :D "
   ]
  },
  {
   "cell_type": "code",
   "execution_count": 13,
   "id": "3c374200-29e4-4e4c-98e5-16dc5a85256c",
   "metadata": {},
   "outputs": [
    {
     "data": {
      "text/plain": [
       "CollectionIndexer @ 0x7f079009c970\n",
       "Selection of <30> LineGraphic"
      ]
     },
     "execution_count": 13,
     "metadata": {},
     "output_type": "execute_result"
    }
   ],
   "source": [
    "# index graphic collection :D \n",
    "iw.plot[\"contours\"][ixs_good]"
   ]
  },
  {
   "cell_type": "markdown",
   "id": "ac1f6bf8-f950-40cd-a15c-3a87f8e41446",
   "metadata": {},
   "source": [
    "# AND you can modify the colors for this selection!"
   ]
  },
  {
   "cell_type": "code",
   "execution_count": 14,
   "id": "8e0ed28c-3a24-4198-b097-17f2df1757c4",
   "metadata": {},
   "outputs": [],
   "source": [
    "iw.plot[\"contours\"][ixs_good].colors = \"cyan\""
   ]
  },
  {
   "cell_type": "markdown",
   "id": "db2556ba-9681-457d-bdd9-c66c4105e4e5",
   "metadata": {},
   "source": [
    "# set colors of the bad contours"
   ]
  },
  {
   "cell_type": "code",
   "execution_count": 15,
   "id": "d1072e98-8360-4517-86d0-7b897389ee14",
   "metadata": {},
   "outputs": [],
   "source": [
    "iw.plot[\"contours\"][ixs_bad].colors = \"magenta\""
   ]
  },
  {
   "cell_type": "markdown",
   "id": "f477efdb-182d-47d6-97f5-9534ba88e564",
   "metadata": {},
   "source": [
    "# OR modify a different feature"
   ]
  },
  {
   "cell_type": "code",
   "execution_count": 16,
   "id": "f5e5752a-f6ba-4850-86ab-e4115f00ab3c",
   "metadata": {},
   "outputs": [],
   "source": [
    "iw.plot[\"contours\"][ixs_bad].thickness = 1"
   ]
  },
  {
   "cell_type": "code",
   "execution_count": 17,
   "id": "fa76cb97-ceda-43a8-b83b-91a22f7b524f",
   "metadata": {},
   "outputs": [],
   "source": [
    "iw.plot[\"contours\"][ixs_bad].thickness = 2\n",
    "iw.plot[\"contours\"][ixs_bad].present = False"
   ]
  },
  {
   "cell_type": "code",
   "execution_count": 18,
   "id": "afcba9cd-bf90-4936-91f0-71e64e197cb1",
   "metadata": {},
   "outputs": [],
   "source": [
    "iw.plot.canvas.close()"
   ]
  },
  {
   "cell_type": "code",
   "execution_count": 33,
   "id": "4b17db19-bf86-42e7-ba7f-ef5eeeb6cd8b",
   "metadata": {},
   "outputs": [
    {
     "data": {
      "application/vnd.jupyter.widget-view+json": {
       "model_id": "",
       "version_major": 2,
       "version_minor": 0
      },
      "text/plain": [
       "RFBOutputContext()"
      ]
     },
     "metadata": {},
     "output_type": "display_data"
    },
    {
     "data": {
      "application/vnd.jupyter.widget-view+json": {
       "model_id": "",
       "version_major": 2,
       "version_minor": 0
      },
      "text/plain": [
       "RFBOutputContext()"
      ]
     },
     "metadata": {},
     "output_type": "display_data"
    },
    {
     "data": {
      "application/vnd.jupyter.widget-view+json": {
       "model_id": "",
       "version_major": 2,
       "version_minor": 0
      },
      "text/plain": [
       "VBox(children=(JupyterWgpuCanvas(), VBox(children=(JupyterWgpuCanvas(), IntSlider(value=0, description='dimens…"
      ]
     },
     "metadata": {},
     "output_type": "display_data"
    }
   ],
   "source": [
    "# plot contours according to good/bad colors\n",
    "MODE = \"colors\"\n",
    "\n",
    "label_eval = Label(value=\"\")\n",
    "\n",
    "eval_params = get_eval_params()\n",
    "\n",
    "# ImageWidget with movie and contours\n",
    "iw = ImageWidget(data=cnmf_movie, vmin_vmax_sliders=True, cmap=\"gray\")\n",
    "iw.plot.add_line_collection(contours, name=\"contours\")\n",
    "\n",
    "# line plot\n",
    "plot_l = Plot()\n",
    "plot_l.add_line_collection(temporal, name=\"temporal\")\n",
    "\n",
    "ls = LineSlider(x_pos=0, bounds=(temporal.min(), temporal.max()), slider=iw.sliders[\"t\"])\n",
    "plot_l.add_graphic(ls)\n",
    "\n",
    "@iw.plot.renderer.add_event_handler(\"resize\")\n",
    "def update_with(*args):\n",
    "    w = iw.plot.canvas.get_logical_size()[0]\n",
    "    h = plot_l.canvas.get_logical_size()\n",
    "    plot_l.canvas.set_logical_size(w, h)\n",
    "\n",
    "\n",
    "# animate func just like mcorr viz\n",
    "def update_eval(p):\n",
    "    global eval_params\n",
    "    \n",
    "    new_eval_params = get_eval_params()\n",
    "    \n",
    "    if new_eval_params == eval_params:\n",
    "        return\n",
    "    eval_params = new_eval_params\n",
    "    \n",
    "    label_eval.value = \"Please wait running eval...\"\n",
    "    # run eval\n",
    "    df.iloc[index].cnmf.run_eval(new_eval_params)\n",
    "    label_eval.value = \"\"\n",
    "    \n",
    "    # get the new indices after eval\n",
    "    good_ixs = df.iloc[index].cnmf.get_good_components()\n",
    "    bad_ixs = df.iloc[index].cnmf.get_bad_components()\n",
    "    \n",
    "    if MODE == \"colors\":\n",
    "        # make sure all of them are present\n",
    "        p[\"contours\"][:].present = True\n",
    "        \n",
    "        # set colors\n",
    "        p[\"contours\"][:].colors.block_events(True)\n",
    "        p[\"contours\"][good_ixs].colors = \"cyan\"\n",
    "        p[\"contours\"][bad_ixs].colors = \"magenta\"\n",
    "        p[\"contours\"][:].colors.block_events(False)\n",
    "    \n",
    "    elif MODE == \"present\":\n",
    "        # make them all cyan\n",
    "        p[\"contours\"][:].colors = \"cyan\"\n",
    "        \n",
    "        # set present=True for good\n",
    "        p[\"contours\"][:].colors.block_events(True)\n",
    "        p[\"contours\"][good_ixs].present = True\n",
    "        p[\"contours\"][bad_ixs].present = False\n",
    "        p[\"contours\"][:].colors.block_events(False)\n",
    "\n",
    "iw.plot.add_animations(update_eval)\n",
    "\n",
    "VBox([\n",
    "    plot_l.show(),\n",
    "    iw.show(), \n",
    "    label_eval,\n",
    "    Label(value=\"Low Thresholds\"),\n",
    "    *lw,\n",
    "    Label(value=\"High Thresholds\"),\n",
    "    *hw   \n",
    "])"
   ]
  },
  {
   "cell_type": "code",
   "execution_count": 34,
   "id": "0da9ef5f-22fc-4859-840e-d2906b73f3b7",
   "metadata": {},
   "outputs": [],
   "source": [
    "# not important to understand for now, will be made public in the next version\n",
    "def euclidean(source, target, event, new_data):\n",
    "    \"\"\"maps click events to contour\"\"\"\n",
    "    # calculate coms of line collection\n",
    "    indices = np.array(event.pick_info[\"index\"])\n",
    "    \n",
    "    coms = list()\n",
    "\n",
    "    for contour in target.graphics:\n",
    "        coors = contour.data()[~np.isnan(contour.data()).any(axis=1)]\n",
    "        com = coors.mean(axis=0)\n",
    "        coms.append(com)\n",
    "\n",
    "    # euclidean distance to find closest index of com \n",
    "    indices = np.append(indices, [0])\n",
    "    \n",
    "    ix = int(np.linalg.norm((coms - indices), axis=1).argsort()[0])\n",
    "    \n",
    "    # should typically never access private methods\n",
    "    target._set_feature(feature=\"colors\", new_data=new_data, indices=ix)\n",
    "    \n",
    "    return None\n",
    "\n",
    "# image -> contours\n",
    "iw.plot[\"image\"].link(\n",
    "    \"click\",\n",
    "    target=iw.plot[\"contours\"],\n",
    "    feature=\"colors\", \n",
    "    new_data=\"w\", \n",
    "    callback=euclidean\n",
    ")\n",
    "\n",
    "plot_l[\"temporal\"][:].present = False\n",
    "plot_l[\"temporal\"][:].present.add_event_handler(plot_l.auto_scale)\n",
    "\n",
    "# contours -> temporal present\n",
    "iw.plot[\"contours\"].link(\n",
    "    event_type=\"colors\",\n",
    "    target=plot_l[\"temporal\"],\n",
    "    feature=\"present\",\n",
    "    new_data=True\n",
    ")"
   ]
  },
  {
   "cell_type": "markdown",
   "id": "0ca7e0bb-6854-424c-ba82-8d413b954309",
   "metadata": {},
   "source": [
    "# Ignore everything below\n",
    "\n",
    "I will make better component eval in a few weeks, help is welcome :D "
   ]
  },
  {
   "cell_type": "markdown",
   "id": "d1751418-99de-443f-90b2-e0fae5db2655",
   "metadata": {},
   "source": [
    "View cmaps with `r_values`, `cnn_preds`, `comp_SNR`\n",
    "\n",
    "Click on components and press `\"g\"` to add to good, `\"b\"` to add to bad."
   ]
  },
  {
   "cell_type": "code",
   "execution_count": 9,
   "id": "cd5deeae-302d-4517-a68d-148bcfa8d4d1",
   "metadata": {},
   "outputs": [],
   "source": [
    "rcm = df.iloc[index].cnmf.get_rcm()\n",
    "corr_img = df.iloc[index].caiman.get_corr_image()"
   ]
  },
  {
   "cell_type": "code",
   "execution_count": null,
   "id": "4961d94b-77d1-4407-8ae8-776d0eabfcde",
   "metadata": {},
   "outputs": [],
   "source": [
    "# 2 x 2 gridplot\n",
    "# |=====================|\n",
    "# |  movie |    rcm     |\n",
    "# |---------------------|\n",
    "# | corr  |  temporal   |\n",
    "# |=====================|\n",
    "cnmf_grid = GridPlot(\n",
    "    shape=(2, 2), \n",
    "    controllers=[[0, 0], [0, 1]], \n",
    "    names=[[\"movie\", \"rcm\"], [\"corr\", \"temporal\"]]\n",
    ")\n",
    "\n",
    "# movie and rcm, rcm is a lazy array and behaves similar to numpy arrays\n",
    "movie_graphic = cnmf_grid[\"movie\"].add_image(cnmf_movie[0], cmap=\"gnuplot2\")\n",
    "rcm_graphic = cnmf_grid[\"rcm\"].add_image(rcm[0], cmap=\"gnuplot2\")\n",
    "\n",
    "# corr image\n",
    "cnmf_grid[\"corr\"].add_image(corr_img, cmap=\"viridis\")\n",
    "\n",
    "# contours for good components\n",
    "contours_good, coms = df.iloc[index].cnmf.get_contours(\"good\", swap_dim=False)\n",
    "\n",
    "# random colors for contours and temporal components\n",
    "# make an RGBA array for each color\n",
    "rand_colors = np.random.rand(len(contours_good), 4)  # [n_contours, RGBA]\n",
    "rand_colors[:, -1] = 1 # set alpha = 1\n",
    "\n",
    "# get temporal of only good components\n",
    "temporal_good = df.iloc[index].cnmf.get_temporal(\"good\")\n",
    "\n",
    "# add contours to both movie and rcm subplots\n",
    "contours_movie = cnmf_grid[\"movie\"].add_line_collection(contours_good, colors=rand_colors)\n",
    "contours_rcm = cnmf_grid[\"rcm\"].add_line_collection(contours_good, colors=rand_colors)\n",
    "\n",
    "# line stack of temporal components\n",
    "temporal_stack = cnmf_grid[\"temporal\"].add_line_stack(temporal_good, colors=rand_colors, thickness=3.0, separate=15)\n",
    "\n",
    "# plot single temporal, just like before\n",
    "plot_temporal_single = Plot()\n",
    "temporal_graphic = plot_temporal_single.add_line_collection(temporal_good, colors=rand_colors)\n",
    "\n",
    "# since this is a GridPlot and not an ImageWidget we need to define sliders\n",
    "slider = IntSlider(min=0, max=cnmf_movie.shape[0] - 1, value=0, step=1)\n",
    "\n",
    "# vertical line sliders\n",
    "_ls = LineSlider(x_pos=0, bounds=(temporal.min(), temporal.max()), slider=slider)\n",
    "_ls2 = LineSlider(x_pos=0, bounds=(temporal.min(), temporal.max() + temporal_stack.items[-1].position.y), slider=slider)\n",
    "plot_temporal_single.add_graphic(_ls)\n",
    "cnmf_grid[\"temporal\"].add_graphic(_ls2)\n",
    "\n",
    "# function to update each frame\n",
    "def update_frame(change):\n",
    "    ix = change[\"new\"]\n",
    "    movie_graphic.data = cnmf_movie[ix]\n",
    "    rcm_graphic.data = rcm[ix]\n",
    "    \n",
    "slider.observe(update_frame, \"value\")\n",
    "\n",
    "@plot_temporal_single.renderer.add_event_handler(\"resize\")\n",
    "def update_slider_width(*args):\n",
    "    width, h = plot_temporal_single.renderer.logical_size\n",
    "    slider.layout = Layout(width=f\"{width}px\")\n",
    "    \n",
    "VBox([plot_temporal_single.show(), cnmf_grid.show(), slider])"
   ]
  }
 ],
 "metadata": {
  "kernelspec": {
   "display_name": "Python 3 (ipykernel)",
   "language": "python",
   "name": "python3"
  },
  "language_info": {
   "codemirror_mode": {
    "name": "ipython",
    "version": 3
   },
   "file_extension": ".py",
   "mimetype": "text/x-python",
   "name": "python",
   "nbconvert_exporter": "python",
   "pygments_lexer": "ipython3",
   "version": "3.9.2"
  }
 },
 "nbformat": 4,
 "nbformat_minor": 5
}

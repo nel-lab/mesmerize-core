{
 "cells": [
  {
   "cell_type": "markdown",
   "id": "8af06ee3-cba7-4f5c-8c5e-c47712aae6ad",
   "metadata": {},
   "source": [
    "# Visualization of CNMF outputs\n",
    "\n",
    "You must already have a batch DataFrame with CNMF outputs to run this nb"
   ]
  },
  {
   "cell_type": "code",
   "execution_count": 1,
   "id": "222bf36f-45e9-4408-800b-aaaa843d748d",
   "metadata": {
    "pycharm": {
     "name": "#%%\n"
    },
    "tags": []
   },
   "outputs": [],
   "source": [
    "from mesmerize_core import *\n",
    "import numpy as np\n",
    "import pandas as pd"
   ]
  },
  {
   "cell_type": "markdown",
   "id": "13a3b78e-a54e-4693-acda-1ac75c3ade9e",
   "metadata": {},
   "source": [
    "**You will need `fastplotlib` installed for the visualizations**"
   ]
  },
  {
   "cell_type": "code",
   "execution_count": 2,
   "id": "468afef4-7a36-4c2c-adb4-20bfd785b786",
   "metadata": {
    "pycharm": {
     "name": "#%%\n"
    }
   },
   "outputs": [],
   "source": [
    "from fastplotlib import ImageWidget, Plot, GridPlot\n",
    "from ipywidgets import VBox, IntSlider, Layout"
   ]
  },
  {
   "cell_type": "code",
   "execution_count": 3,
   "id": "82f6922d-c042-4ecd-bed7-560705d247f4",
   "metadata": {},
   "outputs": [],
   "source": [
    "pd.options.display.max_colwidth = 120"
   ]
  },
  {
   "cell_type": "markdown",
   "id": "3873e438-e232-41f6-87a3-9b49daa3cf38",
   "metadata": {},
   "source": [
    "# Paths"
   ]
  },
  {
   "cell_type": "code",
   "execution_count": 4,
   "id": "b6f3f3ed-29f0-4831-816b-7fe05119734a",
   "metadata": {
    "pycharm": {
     "name": "#%%\n"
    }
   },
   "outputs": [],
   "source": [
    "# for this demo set this dir as the path to your `caiman_data` dir\n",
    "set_parent_raw_data_path(\"/home/kushal/caiman_data/\")\n",
    "\n",
    "# batch path\n",
    "batch_path = get_parent_raw_data_path().joinpath(\"mesmerize-batch/batch.pickle\")"
   ]
  },
  {
   "cell_type": "markdown",
   "id": "607a2164-da03-4b21-a951-8a57c2120c48",
   "metadata": {},
   "source": [
    "## Load batch"
   ]
  },
  {
   "cell_type": "code",
   "execution_count": 5,
   "id": "ba62939e-4584-44b8-8b84-df6c63b52187",
   "metadata": {
    "pycharm": {
     "name": "#%%\n"
    }
   },
   "outputs": [
    {
     "data": {
      "text/html": [
       "<div>\n",
       "<style scoped>\n",
       "    .dataframe tbody tr th:only-of-type {\n",
       "        vertical-align: middle;\n",
       "    }\n",
       "\n",
       "    .dataframe tbody tr th {\n",
       "        vertical-align: top;\n",
       "    }\n",
       "\n",
       "    .dataframe thead th {\n",
       "        text-align: right;\n",
       "    }\n",
       "</style>\n",
       "<table border=\"1\" class=\"dataframe\">\n",
       "  <thead>\n",
       "    <tr style=\"text-align: right;\">\n",
       "      <th></th>\n",
       "      <th>algo</th>\n",
       "      <th>item_name</th>\n",
       "      <th>input_movie_path</th>\n",
       "      <th>params</th>\n",
       "      <th>outputs</th>\n",
       "      <th>added_time</th>\n",
       "      <th>ran_time</th>\n",
       "      <th>algo_duration</th>\n",
       "      <th>comments</th>\n",
       "      <th>uuid</th>\n",
       "    </tr>\n",
       "  </thead>\n",
       "  <tbody>\n",
       "    <tr>\n",
       "      <th>0</th>\n",
       "      <td>mcorr</td>\n",
       "      <td>Sue_2x_3000_40_-46</td>\n",
       "      <td>example_movies/Sue_2x_3000_40_-46.tif</td>\n",
       "      <td>{'main': {'max_shifts': (6, 6), 'strides': (24, 24), 'overlaps': (12, 12), 'max_deviation_rigid': 3, 'border_nan': '...</td>\n",
       "      <td>{'mean-projection-path': b4aa1ac6-73cf-441a-8eda-dc10b9de25e4/b4aa1ac6-73cf-441a-8eda-dc10b9de25e4_mean_projection.n...</td>\n",
       "      <td>2023-01-10T23:13:39</td>\n",
       "      <td>2023-01-10T23:16:46</td>\n",
       "      <td>15.09 sec</td>\n",
       "      <td>None</td>\n",
       "      <td>b4aa1ac6-73cf-441a-8eda-dc10b9de25e4</td>\n",
       "    </tr>\n",
       "    <tr>\n",
       "      <th>1</th>\n",
       "      <td>cnmf</td>\n",
       "      <td>Sue_2x_3000_40_-46</td>\n",
       "      <td>b4aa1ac6-73cf-441a-8eda-dc10b9de25e4/b4aa1ac6-73cf-441a-8eda-dc10b9de25e4-Sue_2x_3000_40_-46_els__d1_170_d2_170_d3_1...</td>\n",
       "      <td>{'main': {'fr': 30, 'p': 1, 'nb': 2, 'merge_thr': 0.85, 'rf': 15, 'stride': 6, 'K': 4, 'gSig': (4, 4), 'ssub': 1, 't...</td>\n",
       "      <td>{'mean-projection-path': 51fbd870-6072-4c32-9e37-928756227f2f/51fbd870-6072-4c32-9e37-928756227f2f_mean_projection.n...</td>\n",
       "      <td>2023-01-10T23:31:21</td>\n",
       "      <td>2023-01-10T23:37:17</td>\n",
       "      <td>19.71 sec</td>\n",
       "      <td>None</td>\n",
       "      <td>51fbd870-6072-4c32-9e37-928756227f2f</td>\n",
       "    </tr>\n",
       "    <tr>\n",
       "      <th>2</th>\n",
       "      <td>cnmf</td>\n",
       "      <td>Sue_2x_3000_40_-46</td>\n",
       "      <td>b4aa1ac6-73cf-441a-8eda-dc10b9de25e4/b4aa1ac6-73cf-441a-8eda-dc10b9de25e4-Sue_2x_3000_40_-46_els__d1_170_d2_170_d3_1...</td>\n",
       "      <td>{'main': {'fr': 30, 'p': 1, 'nb': 2, 'merge_thr': 0.8, 'rf': 15, 'stride': 6, 'K': 4, 'gSig': (6, 6), 'ssub': 1, 'ts...</td>\n",
       "      <td>{'mean-projection-path': 49475ead-203a-411f-9eae-7fe050621f27/49475ead-203a-411f-9eae-7fe050621f27_mean_projection.n...</td>\n",
       "      <td>2023-01-10T23:31:27</td>\n",
       "      <td>2023-01-10T23:37:41</td>\n",
       "      <td>20.79 sec</td>\n",
       "      <td>None</td>\n",
       "      <td>49475ead-203a-411f-9eae-7fe050621f27</td>\n",
       "    </tr>\n",
       "    <tr>\n",
       "      <th>3</th>\n",
       "      <td>cnmf</td>\n",
       "      <td>Sue_2x_3000_40_-46</td>\n",
       "      <td>b4aa1ac6-73cf-441a-8eda-dc10b9de25e4/b4aa1ac6-73cf-441a-8eda-dc10b9de25e4-Sue_2x_3000_40_-46_els__d1_170_d2_170_d3_1...</td>\n",
       "      <td>{'main': {'fr': 30, 'p': 1, 'nb': 2, 'merge_thr': 0.95, 'rf': 15, 'stride': 6, 'K': 4, 'gSig': (6, 6), 'ssub': 1, 't...</td>\n",
       "      <td>{'mean-projection-path': 96a58ab3-fdff-4ece-9640-c0ab65c92337/96a58ab3-fdff-4ece-9640-c0ab65c92337_mean_projection.n...</td>\n",
       "      <td>2023-01-10T23:31:27</td>\n",
       "      <td>2023-01-10T23:38:07</td>\n",
       "      <td>21.46 sec</td>\n",
       "      <td>None</td>\n",
       "      <td>96a58ab3-fdff-4ece-9640-c0ab65c92337</td>\n",
       "    </tr>\n",
       "    <tr>\n",
       "      <th>4</th>\n",
       "      <td>cnmf</td>\n",
       "      <td>Sue_2x_3000_40_-46</td>\n",
       "      <td>b4aa1ac6-73cf-441a-8eda-dc10b9de25e4/b4aa1ac6-73cf-441a-8eda-dc10b9de25e4-Sue_2x_3000_40_-46_els__d1_170_d2_170_d3_1...</td>\n",
       "      <td>{'main': {'fr': 30, 'p': 1, 'nb': 2, 'merge_thr': 0.8, 'rf': 15, 'stride': 6, 'K': 8, 'gSig': (6, 6), 'ssub': 1, 'ts...</td>\n",
       "      <td>{'mean-projection-path': 61cf64e3-4933-4e55-8e6b-1b4fc9282aea/61cf64e3-4933-4e55-8e6b-1b4fc9282aea_mean_projection.n...</td>\n",
       "      <td>2023-01-10T23:31:27</td>\n",
       "      <td>2023-01-10T23:38:33</td>\n",
       "      <td>22.7 sec</td>\n",
       "      <td>None</td>\n",
       "      <td>61cf64e3-4933-4e55-8e6b-1b4fc9282aea</td>\n",
       "    </tr>\n",
       "    <tr>\n",
       "      <th>5</th>\n",
       "      <td>cnmf</td>\n",
       "      <td>Sue_2x_3000_40_-46</td>\n",
       "      <td>b4aa1ac6-73cf-441a-8eda-dc10b9de25e4/b4aa1ac6-73cf-441a-8eda-dc10b9de25e4-Sue_2x_3000_40_-46_els__d1_170_d2_170_d3_1...</td>\n",
       "      <td>{'main': {'fr': 30, 'p': 1, 'nb': 2, 'merge_thr': 0.95, 'rf': 15, 'stride': 6, 'K': 8, 'gSig': (6, 6), 'ssub': 1, 't...</td>\n",
       "      <td>{'mean-projection-path': 906758f8-daee-4711-af96-9bc5a2084d3d/906758f8-daee-4711-af96-9bc5a2084d3d_mean_projection.n...</td>\n",
       "      <td>2023-01-10T23:31:27</td>\n",
       "      <td>2023-01-10T23:39:02</td>\n",
       "      <td>23.9 sec</td>\n",
       "      <td>None</td>\n",
       "      <td>906758f8-daee-4711-af96-9bc5a2084d3d</td>\n",
       "    </tr>\n",
       "    <tr>\n",
       "      <th>6</th>\n",
       "      <td>cnmf</td>\n",
       "      <td>Sue_2x_3000_40_-46</td>\n",
       "      <td>b4aa1ac6-73cf-441a-8eda-dc10b9de25e4/b4aa1ac6-73cf-441a-8eda-dc10b9de25e4-Sue_2x_3000_40_-46_els__d1_170_d2_170_d3_1...</td>\n",
       "      <td>{'main': {'fr': 30, 'p': 1, 'nb': 2, 'merge_thr': 0.8, 'rf': 15, 'stride': 6, 'K': 4, 'gSig': (8, 8), 'ssub': 1, 'ts...</td>\n",
       "      <td>{'mean-projection-path': 72732687-50c5-4ffd-aa36-d82a2e8a468a/72732687-50c5-4ffd-aa36-d82a2e8a468a_mean_projection.n...</td>\n",
       "      <td>2023-01-10T23:31:27</td>\n",
       "      <td>2023-01-10T23:39:28</td>\n",
       "      <td>22.45 sec</td>\n",
       "      <td>None</td>\n",
       "      <td>72732687-50c5-4ffd-aa36-d82a2e8a468a</td>\n",
       "    </tr>\n",
       "    <tr>\n",
       "      <th>7</th>\n",
       "      <td>cnmf</td>\n",
       "      <td>Sue_2x_3000_40_-46</td>\n",
       "      <td>b4aa1ac6-73cf-441a-8eda-dc10b9de25e4/b4aa1ac6-73cf-441a-8eda-dc10b9de25e4-Sue_2x_3000_40_-46_els__d1_170_d2_170_d3_1...</td>\n",
       "      <td>{'main': {'fr': 30, 'p': 1, 'nb': 2, 'merge_thr': 0.95, 'rf': 15, 'stride': 6, 'K': 4, 'gSig': (8, 8), 'ssub': 1, 't...</td>\n",
       "      <td>{'mean-projection-path': 73b38310-e53e-451f-90f8-e387812fa408/73b38310-e53e-451f-90f8-e387812fa408_mean_projection.n...</td>\n",
       "      <td>2023-01-10T23:31:27</td>\n",
       "      <td>2023-01-10T23:39:54</td>\n",
       "      <td>21.84 sec</td>\n",
       "      <td>None</td>\n",
       "      <td>73b38310-e53e-451f-90f8-e387812fa408</td>\n",
       "    </tr>\n",
       "    <tr>\n",
       "      <th>8</th>\n",
       "      <td>cnmf</td>\n",
       "      <td>Sue_2x_3000_40_-46</td>\n",
       "      <td>b4aa1ac6-73cf-441a-8eda-dc10b9de25e4/b4aa1ac6-73cf-441a-8eda-dc10b9de25e4-Sue_2x_3000_40_-46_els__d1_170_d2_170_d3_1...</td>\n",
       "      <td>{'main': {'fr': 30, 'p': 1, 'nb': 2, 'merge_thr': 0.8, 'rf': 15, 'stride': 6, 'K': 8, 'gSig': (8, 8), 'ssub': 1, 'ts...</td>\n",
       "      <td>{'mean-projection-path': 6b8e19a9-fec6-4025-9e3e-2cec4e2fa4c0/6b8e19a9-fec6-4025-9e3e-2cec4e2fa4c0_mean_projection.n...</td>\n",
       "      <td>2023-01-10T23:31:27</td>\n",
       "      <td>2023-01-10T23:40:24</td>\n",
       "      <td>24.52 sec</td>\n",
       "      <td>None</td>\n",
       "      <td>6b8e19a9-fec6-4025-9e3e-2cec4e2fa4c0</td>\n",
       "    </tr>\n",
       "    <tr>\n",
       "      <th>9</th>\n",
       "      <td>cnmf</td>\n",
       "      <td>Sue_2x_3000_40_-46</td>\n",
       "      <td>b4aa1ac6-73cf-441a-8eda-dc10b9de25e4/b4aa1ac6-73cf-441a-8eda-dc10b9de25e4-Sue_2x_3000_40_-46_els__d1_170_d2_170_d3_1...</td>\n",
       "      <td>{'main': {'fr': 30, 'p': 1, 'nb': 2, 'merge_thr': 0.95, 'rf': 15, 'stride': 6, 'K': 8, 'gSig': (8, 8), 'ssub': 1, 't...</td>\n",
       "      <td>{'mean-projection-path': 83f18dfd-29e6-47e1-bdb5-4039c2a09918/83f18dfd-29e6-47e1-bdb5-4039c2a09918_mean_projection.n...</td>\n",
       "      <td>2023-01-10T23:31:27</td>\n",
       "      <td>2023-01-10T23:40:55</td>\n",
       "      <td>25.38 sec</td>\n",
       "      <td>None</td>\n",
       "      <td>83f18dfd-29e6-47e1-bdb5-4039c2a09918</td>\n",
       "    </tr>\n",
       "  </tbody>\n",
       "</table>\n",
       "</div>"
      ],
      "text/plain": [
       "    algo           item_name  \\\n",
       "0  mcorr  Sue_2x_3000_40_-46   \n",
       "1   cnmf  Sue_2x_3000_40_-46   \n",
       "2   cnmf  Sue_2x_3000_40_-46   \n",
       "3   cnmf  Sue_2x_3000_40_-46   \n",
       "4   cnmf  Sue_2x_3000_40_-46   \n",
       "5   cnmf  Sue_2x_3000_40_-46   \n",
       "6   cnmf  Sue_2x_3000_40_-46   \n",
       "7   cnmf  Sue_2x_3000_40_-46   \n",
       "8   cnmf  Sue_2x_3000_40_-46   \n",
       "9   cnmf  Sue_2x_3000_40_-46   \n",
       "\n",
       "                                                                                                          input_movie_path  \\\n",
       "0                                                                                    example_movies/Sue_2x_3000_40_-46.tif   \n",
       "1  b4aa1ac6-73cf-441a-8eda-dc10b9de25e4/b4aa1ac6-73cf-441a-8eda-dc10b9de25e4-Sue_2x_3000_40_-46_els__d1_170_d2_170_d3_1...   \n",
       "2  b4aa1ac6-73cf-441a-8eda-dc10b9de25e4/b4aa1ac6-73cf-441a-8eda-dc10b9de25e4-Sue_2x_3000_40_-46_els__d1_170_d2_170_d3_1...   \n",
       "3  b4aa1ac6-73cf-441a-8eda-dc10b9de25e4/b4aa1ac6-73cf-441a-8eda-dc10b9de25e4-Sue_2x_3000_40_-46_els__d1_170_d2_170_d3_1...   \n",
       "4  b4aa1ac6-73cf-441a-8eda-dc10b9de25e4/b4aa1ac6-73cf-441a-8eda-dc10b9de25e4-Sue_2x_3000_40_-46_els__d1_170_d2_170_d3_1...   \n",
       "5  b4aa1ac6-73cf-441a-8eda-dc10b9de25e4/b4aa1ac6-73cf-441a-8eda-dc10b9de25e4-Sue_2x_3000_40_-46_els__d1_170_d2_170_d3_1...   \n",
       "6  b4aa1ac6-73cf-441a-8eda-dc10b9de25e4/b4aa1ac6-73cf-441a-8eda-dc10b9de25e4-Sue_2x_3000_40_-46_els__d1_170_d2_170_d3_1...   \n",
       "7  b4aa1ac6-73cf-441a-8eda-dc10b9de25e4/b4aa1ac6-73cf-441a-8eda-dc10b9de25e4-Sue_2x_3000_40_-46_els__d1_170_d2_170_d3_1...   \n",
       "8  b4aa1ac6-73cf-441a-8eda-dc10b9de25e4/b4aa1ac6-73cf-441a-8eda-dc10b9de25e4-Sue_2x_3000_40_-46_els__d1_170_d2_170_d3_1...   \n",
       "9  b4aa1ac6-73cf-441a-8eda-dc10b9de25e4/b4aa1ac6-73cf-441a-8eda-dc10b9de25e4-Sue_2x_3000_40_-46_els__d1_170_d2_170_d3_1...   \n",
       "\n",
       "                                                                                                                    params  \\\n",
       "0  {'main': {'max_shifts': (6, 6), 'strides': (24, 24), 'overlaps': (12, 12), 'max_deviation_rigid': 3, 'border_nan': '...   \n",
       "1  {'main': {'fr': 30, 'p': 1, 'nb': 2, 'merge_thr': 0.85, 'rf': 15, 'stride': 6, 'K': 4, 'gSig': (4, 4), 'ssub': 1, 't...   \n",
       "2  {'main': {'fr': 30, 'p': 1, 'nb': 2, 'merge_thr': 0.8, 'rf': 15, 'stride': 6, 'K': 4, 'gSig': (6, 6), 'ssub': 1, 'ts...   \n",
       "3  {'main': {'fr': 30, 'p': 1, 'nb': 2, 'merge_thr': 0.95, 'rf': 15, 'stride': 6, 'K': 4, 'gSig': (6, 6), 'ssub': 1, 't...   \n",
       "4  {'main': {'fr': 30, 'p': 1, 'nb': 2, 'merge_thr': 0.8, 'rf': 15, 'stride': 6, 'K': 8, 'gSig': (6, 6), 'ssub': 1, 'ts...   \n",
       "5  {'main': {'fr': 30, 'p': 1, 'nb': 2, 'merge_thr': 0.95, 'rf': 15, 'stride': 6, 'K': 8, 'gSig': (6, 6), 'ssub': 1, 't...   \n",
       "6  {'main': {'fr': 30, 'p': 1, 'nb': 2, 'merge_thr': 0.8, 'rf': 15, 'stride': 6, 'K': 4, 'gSig': (8, 8), 'ssub': 1, 'ts...   \n",
       "7  {'main': {'fr': 30, 'p': 1, 'nb': 2, 'merge_thr': 0.95, 'rf': 15, 'stride': 6, 'K': 4, 'gSig': (8, 8), 'ssub': 1, 't...   \n",
       "8  {'main': {'fr': 30, 'p': 1, 'nb': 2, 'merge_thr': 0.8, 'rf': 15, 'stride': 6, 'K': 8, 'gSig': (8, 8), 'ssub': 1, 'ts...   \n",
       "9  {'main': {'fr': 30, 'p': 1, 'nb': 2, 'merge_thr': 0.95, 'rf': 15, 'stride': 6, 'K': 8, 'gSig': (8, 8), 'ssub': 1, 't...   \n",
       "\n",
       "                                                                                                                   outputs  \\\n",
       "0  {'mean-projection-path': b4aa1ac6-73cf-441a-8eda-dc10b9de25e4/b4aa1ac6-73cf-441a-8eda-dc10b9de25e4_mean_projection.n...   \n",
       "1  {'mean-projection-path': 51fbd870-6072-4c32-9e37-928756227f2f/51fbd870-6072-4c32-9e37-928756227f2f_mean_projection.n...   \n",
       "2  {'mean-projection-path': 49475ead-203a-411f-9eae-7fe050621f27/49475ead-203a-411f-9eae-7fe050621f27_mean_projection.n...   \n",
       "3  {'mean-projection-path': 96a58ab3-fdff-4ece-9640-c0ab65c92337/96a58ab3-fdff-4ece-9640-c0ab65c92337_mean_projection.n...   \n",
       "4  {'mean-projection-path': 61cf64e3-4933-4e55-8e6b-1b4fc9282aea/61cf64e3-4933-4e55-8e6b-1b4fc9282aea_mean_projection.n...   \n",
       "5  {'mean-projection-path': 906758f8-daee-4711-af96-9bc5a2084d3d/906758f8-daee-4711-af96-9bc5a2084d3d_mean_projection.n...   \n",
       "6  {'mean-projection-path': 72732687-50c5-4ffd-aa36-d82a2e8a468a/72732687-50c5-4ffd-aa36-d82a2e8a468a_mean_projection.n...   \n",
       "7  {'mean-projection-path': 73b38310-e53e-451f-90f8-e387812fa408/73b38310-e53e-451f-90f8-e387812fa408_mean_projection.n...   \n",
       "8  {'mean-projection-path': 6b8e19a9-fec6-4025-9e3e-2cec4e2fa4c0/6b8e19a9-fec6-4025-9e3e-2cec4e2fa4c0_mean_projection.n...   \n",
       "9  {'mean-projection-path': 83f18dfd-29e6-47e1-bdb5-4039c2a09918/83f18dfd-29e6-47e1-bdb5-4039c2a09918_mean_projection.n...   \n",
       "\n",
       "            added_time             ran_time algo_duration comments  \\\n",
       "0  2023-01-10T23:13:39  2023-01-10T23:16:46     15.09 sec     None   \n",
       "1  2023-01-10T23:31:21  2023-01-10T23:37:17     19.71 sec     None   \n",
       "2  2023-01-10T23:31:27  2023-01-10T23:37:41     20.79 sec     None   \n",
       "3  2023-01-10T23:31:27  2023-01-10T23:38:07     21.46 sec     None   \n",
       "4  2023-01-10T23:31:27  2023-01-10T23:38:33      22.7 sec     None   \n",
       "5  2023-01-10T23:31:27  2023-01-10T23:39:02      23.9 sec     None   \n",
       "6  2023-01-10T23:31:27  2023-01-10T23:39:28     22.45 sec     None   \n",
       "7  2023-01-10T23:31:27  2023-01-10T23:39:54     21.84 sec     None   \n",
       "8  2023-01-10T23:31:27  2023-01-10T23:40:24     24.52 sec     None   \n",
       "9  2023-01-10T23:31:27  2023-01-10T23:40:55     25.38 sec     None   \n",
       "\n",
       "                                   uuid  \n",
       "0  b4aa1ac6-73cf-441a-8eda-dc10b9de25e4  \n",
       "1  51fbd870-6072-4c32-9e37-928756227f2f  \n",
       "2  49475ead-203a-411f-9eae-7fe050621f27  \n",
       "3  96a58ab3-fdff-4ece-9640-c0ab65c92337  \n",
       "4  61cf64e3-4933-4e55-8e6b-1b4fc9282aea  \n",
       "5  906758f8-daee-4711-af96-9bc5a2084d3d  \n",
       "6  72732687-50c5-4ffd-aa36-d82a2e8a468a  \n",
       "7  73b38310-e53e-451f-90f8-e387812fa408  \n",
       "8  6b8e19a9-fec6-4025-9e3e-2cec4e2fa4c0  \n",
       "9  83f18dfd-29e6-47e1-bdb5-4039c2a09918  "
      ]
     },
     "execution_count": 5,
     "metadata": {},
     "output_type": "execute_result"
    }
   ],
   "source": [
    "df = load_batch(batch_path)\n",
    "df"
   ]
  },
  {
   "cell_type": "markdown",
   "id": "5e04d6b2-77b8-4790-b88d-e72c5623c777",
   "metadata": {
    "pycharm": {
     "name": "#%% md\n"
    }
   },
   "source": [
    "# Load outputs\n",
    "\n",
    "CNMF pandas extensions API: https://mesmerize-core.readthedocs.io/en/latest/api/cnmf.html "
   ]
  },
  {
   "cell_type": "markdown",
   "id": "b1ba00e6-ca53-4149-8fc2-fba99135500d",
   "metadata": {
    "pycharm": {
     "name": "#%% md\n"
    }
   },
   "source": [
    "# Visualize CNMF outputs. We'll create some simple and more complex plots."
   ]
  },
  {
   "cell_type": "markdown",
   "id": "3afbfadf-f19a-45d7-b737-1720d3e143ff",
   "metadata": {},
   "source": [
    "### Get a quick overview of contours across items"
   ]
  },
  {
   "cell_type": "code",
   "execution_count": 6,
   "id": "4063e757-645b-4503-b076-ee675c2c5cd6",
   "metadata": {},
   "outputs": [
    {
     "data": {
      "text/html": [
       "<div>\n",
       "<style scoped>\n",
       "    .dataframe tbody tr th:only-of-type {\n",
       "        vertical-align: middle;\n",
       "    }\n",
       "\n",
       "    .dataframe tbody tr th {\n",
       "        vertical-align: top;\n",
       "    }\n",
       "\n",
       "    .dataframe thead th {\n",
       "        text-align: right;\n",
       "    }\n",
       "</style>\n",
       "<table border=\"1\" class=\"dataframe\">\n",
       "  <thead>\n",
       "    <tr style=\"text-align: right;\">\n",
       "      <th></th>\n",
       "      <th>algo</th>\n",
       "      <th>item_name</th>\n",
       "      <th>input_movie_path</th>\n",
       "      <th>params</th>\n",
       "      <th>outputs</th>\n",
       "      <th>added_time</th>\n",
       "      <th>ran_time</th>\n",
       "      <th>algo_duration</th>\n",
       "      <th>comments</th>\n",
       "      <th>uuid</th>\n",
       "    </tr>\n",
       "  </thead>\n",
       "  <tbody>\n",
       "    <tr>\n",
       "      <th>1</th>\n",
       "      <td>cnmf</td>\n",
       "      <td>Sue_2x_3000_40_-46</td>\n",
       "      <td>b4aa1ac6-73cf-441a-8eda-dc10b9de25e4/b4aa1ac6-73cf-441a-8eda-dc10b9de25e4-Sue_2x_3000_40_-46_els__d1_170_d2_170_d3_1...</td>\n",
       "      <td>{'main': {'fr': 30, 'p': 1, 'nb': 2, 'merge_thr': 0.85, 'rf': 15, 'stride': 6, 'K': 4, 'gSig': (4, 4), 'ssub': 1, 't...</td>\n",
       "      <td>{'mean-projection-path': 51fbd870-6072-4c32-9e37-928756227f2f/51fbd870-6072-4c32-9e37-928756227f2f_mean_projection.n...</td>\n",
       "      <td>2023-01-10T23:31:21</td>\n",
       "      <td>2023-01-10T23:37:17</td>\n",
       "      <td>19.71 sec</td>\n",
       "      <td>None</td>\n",
       "      <td>51fbd870-6072-4c32-9e37-928756227f2f</td>\n",
       "    </tr>\n",
       "    <tr>\n",
       "      <th>2</th>\n",
       "      <td>cnmf</td>\n",
       "      <td>Sue_2x_3000_40_-46</td>\n",
       "      <td>b4aa1ac6-73cf-441a-8eda-dc10b9de25e4/b4aa1ac6-73cf-441a-8eda-dc10b9de25e4-Sue_2x_3000_40_-46_els__d1_170_d2_170_d3_1...</td>\n",
       "      <td>{'main': {'fr': 30, 'p': 1, 'nb': 2, 'merge_thr': 0.8, 'rf': 15, 'stride': 6, 'K': 4, 'gSig': (6, 6), 'ssub': 1, 'ts...</td>\n",
       "      <td>{'mean-projection-path': 49475ead-203a-411f-9eae-7fe050621f27/49475ead-203a-411f-9eae-7fe050621f27_mean_projection.n...</td>\n",
       "      <td>2023-01-10T23:31:27</td>\n",
       "      <td>2023-01-10T23:37:41</td>\n",
       "      <td>20.79 sec</td>\n",
       "      <td>None</td>\n",
       "      <td>49475ead-203a-411f-9eae-7fe050621f27</td>\n",
       "    </tr>\n",
       "    <tr>\n",
       "      <th>3</th>\n",
       "      <td>cnmf</td>\n",
       "      <td>Sue_2x_3000_40_-46</td>\n",
       "      <td>b4aa1ac6-73cf-441a-8eda-dc10b9de25e4/b4aa1ac6-73cf-441a-8eda-dc10b9de25e4-Sue_2x_3000_40_-46_els__d1_170_d2_170_d3_1...</td>\n",
       "      <td>{'main': {'fr': 30, 'p': 1, 'nb': 2, 'merge_thr': 0.95, 'rf': 15, 'stride': 6, 'K': 4, 'gSig': (6, 6), 'ssub': 1, 't...</td>\n",
       "      <td>{'mean-projection-path': 96a58ab3-fdff-4ece-9640-c0ab65c92337/96a58ab3-fdff-4ece-9640-c0ab65c92337_mean_projection.n...</td>\n",
       "      <td>2023-01-10T23:31:27</td>\n",
       "      <td>2023-01-10T23:38:07</td>\n",
       "      <td>21.46 sec</td>\n",
       "      <td>None</td>\n",
       "      <td>96a58ab3-fdff-4ece-9640-c0ab65c92337</td>\n",
       "    </tr>\n",
       "    <tr>\n",
       "      <th>4</th>\n",
       "      <td>cnmf</td>\n",
       "      <td>Sue_2x_3000_40_-46</td>\n",
       "      <td>b4aa1ac6-73cf-441a-8eda-dc10b9de25e4/b4aa1ac6-73cf-441a-8eda-dc10b9de25e4-Sue_2x_3000_40_-46_els__d1_170_d2_170_d3_1...</td>\n",
       "      <td>{'main': {'fr': 30, 'p': 1, 'nb': 2, 'merge_thr': 0.8, 'rf': 15, 'stride': 6, 'K': 8, 'gSig': (6, 6), 'ssub': 1, 'ts...</td>\n",
       "      <td>{'mean-projection-path': 61cf64e3-4933-4e55-8e6b-1b4fc9282aea/61cf64e3-4933-4e55-8e6b-1b4fc9282aea_mean_projection.n...</td>\n",
       "      <td>2023-01-10T23:31:27</td>\n",
       "      <td>2023-01-10T23:38:33</td>\n",
       "      <td>22.7 sec</td>\n",
       "      <td>None</td>\n",
       "      <td>61cf64e3-4933-4e55-8e6b-1b4fc9282aea</td>\n",
       "    </tr>\n",
       "    <tr>\n",
       "      <th>5</th>\n",
       "      <td>cnmf</td>\n",
       "      <td>Sue_2x_3000_40_-46</td>\n",
       "      <td>b4aa1ac6-73cf-441a-8eda-dc10b9de25e4/b4aa1ac6-73cf-441a-8eda-dc10b9de25e4-Sue_2x_3000_40_-46_els__d1_170_d2_170_d3_1...</td>\n",
       "      <td>{'main': {'fr': 30, 'p': 1, 'nb': 2, 'merge_thr': 0.95, 'rf': 15, 'stride': 6, 'K': 8, 'gSig': (6, 6), 'ssub': 1, 't...</td>\n",
       "      <td>{'mean-projection-path': 906758f8-daee-4711-af96-9bc5a2084d3d/906758f8-daee-4711-af96-9bc5a2084d3d_mean_projection.n...</td>\n",
       "      <td>2023-01-10T23:31:27</td>\n",
       "      <td>2023-01-10T23:39:02</td>\n",
       "      <td>23.9 sec</td>\n",
       "      <td>None</td>\n",
       "      <td>906758f8-daee-4711-af96-9bc5a2084d3d</td>\n",
       "    </tr>\n",
       "    <tr>\n",
       "      <th>6</th>\n",
       "      <td>cnmf</td>\n",
       "      <td>Sue_2x_3000_40_-46</td>\n",
       "      <td>b4aa1ac6-73cf-441a-8eda-dc10b9de25e4/b4aa1ac6-73cf-441a-8eda-dc10b9de25e4-Sue_2x_3000_40_-46_els__d1_170_d2_170_d3_1...</td>\n",
       "      <td>{'main': {'fr': 30, 'p': 1, 'nb': 2, 'merge_thr': 0.8, 'rf': 15, 'stride': 6, 'K': 4, 'gSig': (8, 8), 'ssub': 1, 'ts...</td>\n",
       "      <td>{'mean-projection-path': 72732687-50c5-4ffd-aa36-d82a2e8a468a/72732687-50c5-4ffd-aa36-d82a2e8a468a_mean_projection.n...</td>\n",
       "      <td>2023-01-10T23:31:27</td>\n",
       "      <td>2023-01-10T23:39:28</td>\n",
       "      <td>22.45 sec</td>\n",
       "      <td>None</td>\n",
       "      <td>72732687-50c5-4ffd-aa36-d82a2e8a468a</td>\n",
       "    </tr>\n",
       "    <tr>\n",
       "      <th>7</th>\n",
       "      <td>cnmf</td>\n",
       "      <td>Sue_2x_3000_40_-46</td>\n",
       "      <td>b4aa1ac6-73cf-441a-8eda-dc10b9de25e4/b4aa1ac6-73cf-441a-8eda-dc10b9de25e4-Sue_2x_3000_40_-46_els__d1_170_d2_170_d3_1...</td>\n",
       "      <td>{'main': {'fr': 30, 'p': 1, 'nb': 2, 'merge_thr': 0.95, 'rf': 15, 'stride': 6, 'K': 4, 'gSig': (8, 8), 'ssub': 1, 't...</td>\n",
       "      <td>{'mean-projection-path': 73b38310-e53e-451f-90f8-e387812fa408/73b38310-e53e-451f-90f8-e387812fa408_mean_projection.n...</td>\n",
       "      <td>2023-01-10T23:31:27</td>\n",
       "      <td>2023-01-10T23:39:54</td>\n",
       "      <td>21.84 sec</td>\n",
       "      <td>None</td>\n",
       "      <td>73b38310-e53e-451f-90f8-e387812fa408</td>\n",
       "    </tr>\n",
       "    <tr>\n",
       "      <th>8</th>\n",
       "      <td>cnmf</td>\n",
       "      <td>Sue_2x_3000_40_-46</td>\n",
       "      <td>b4aa1ac6-73cf-441a-8eda-dc10b9de25e4/b4aa1ac6-73cf-441a-8eda-dc10b9de25e4-Sue_2x_3000_40_-46_els__d1_170_d2_170_d3_1...</td>\n",
       "      <td>{'main': {'fr': 30, 'p': 1, 'nb': 2, 'merge_thr': 0.8, 'rf': 15, 'stride': 6, 'K': 8, 'gSig': (8, 8), 'ssub': 1, 'ts...</td>\n",
       "      <td>{'mean-projection-path': 6b8e19a9-fec6-4025-9e3e-2cec4e2fa4c0/6b8e19a9-fec6-4025-9e3e-2cec4e2fa4c0_mean_projection.n...</td>\n",
       "      <td>2023-01-10T23:31:27</td>\n",
       "      <td>2023-01-10T23:40:24</td>\n",
       "      <td>24.52 sec</td>\n",
       "      <td>None</td>\n",
       "      <td>6b8e19a9-fec6-4025-9e3e-2cec4e2fa4c0</td>\n",
       "    </tr>\n",
       "    <tr>\n",
       "      <th>9</th>\n",
       "      <td>cnmf</td>\n",
       "      <td>Sue_2x_3000_40_-46</td>\n",
       "      <td>b4aa1ac6-73cf-441a-8eda-dc10b9de25e4/b4aa1ac6-73cf-441a-8eda-dc10b9de25e4-Sue_2x_3000_40_-46_els__d1_170_d2_170_d3_1...</td>\n",
       "      <td>{'main': {'fr': 30, 'p': 1, 'nb': 2, 'merge_thr': 0.95, 'rf': 15, 'stride': 6, 'K': 8, 'gSig': (8, 8), 'ssub': 1, 't...</td>\n",
       "      <td>{'mean-projection-path': 83f18dfd-29e6-47e1-bdb5-4039c2a09918/83f18dfd-29e6-47e1-bdb5-4039c2a09918_mean_projection.n...</td>\n",
       "      <td>2023-01-10T23:31:27</td>\n",
       "      <td>2023-01-10T23:40:55</td>\n",
       "      <td>25.38 sec</td>\n",
       "      <td>None</td>\n",
       "      <td>83f18dfd-29e6-47e1-bdb5-4039c2a09918</td>\n",
       "    </tr>\n",
       "  </tbody>\n",
       "</table>\n",
       "</div>"
      ],
      "text/plain": [
       "   algo           item_name  \\\n",
       "1  cnmf  Sue_2x_3000_40_-46   \n",
       "2  cnmf  Sue_2x_3000_40_-46   \n",
       "3  cnmf  Sue_2x_3000_40_-46   \n",
       "4  cnmf  Sue_2x_3000_40_-46   \n",
       "5  cnmf  Sue_2x_3000_40_-46   \n",
       "6  cnmf  Sue_2x_3000_40_-46   \n",
       "7  cnmf  Sue_2x_3000_40_-46   \n",
       "8  cnmf  Sue_2x_3000_40_-46   \n",
       "9  cnmf  Sue_2x_3000_40_-46   \n",
       "\n",
       "                                                                                                          input_movie_path  \\\n",
       "1  b4aa1ac6-73cf-441a-8eda-dc10b9de25e4/b4aa1ac6-73cf-441a-8eda-dc10b9de25e4-Sue_2x_3000_40_-46_els__d1_170_d2_170_d3_1...   \n",
       "2  b4aa1ac6-73cf-441a-8eda-dc10b9de25e4/b4aa1ac6-73cf-441a-8eda-dc10b9de25e4-Sue_2x_3000_40_-46_els__d1_170_d2_170_d3_1...   \n",
       "3  b4aa1ac6-73cf-441a-8eda-dc10b9de25e4/b4aa1ac6-73cf-441a-8eda-dc10b9de25e4-Sue_2x_3000_40_-46_els__d1_170_d2_170_d3_1...   \n",
       "4  b4aa1ac6-73cf-441a-8eda-dc10b9de25e4/b4aa1ac6-73cf-441a-8eda-dc10b9de25e4-Sue_2x_3000_40_-46_els__d1_170_d2_170_d3_1...   \n",
       "5  b4aa1ac6-73cf-441a-8eda-dc10b9de25e4/b4aa1ac6-73cf-441a-8eda-dc10b9de25e4-Sue_2x_3000_40_-46_els__d1_170_d2_170_d3_1...   \n",
       "6  b4aa1ac6-73cf-441a-8eda-dc10b9de25e4/b4aa1ac6-73cf-441a-8eda-dc10b9de25e4-Sue_2x_3000_40_-46_els__d1_170_d2_170_d3_1...   \n",
       "7  b4aa1ac6-73cf-441a-8eda-dc10b9de25e4/b4aa1ac6-73cf-441a-8eda-dc10b9de25e4-Sue_2x_3000_40_-46_els__d1_170_d2_170_d3_1...   \n",
       "8  b4aa1ac6-73cf-441a-8eda-dc10b9de25e4/b4aa1ac6-73cf-441a-8eda-dc10b9de25e4-Sue_2x_3000_40_-46_els__d1_170_d2_170_d3_1...   \n",
       "9  b4aa1ac6-73cf-441a-8eda-dc10b9de25e4/b4aa1ac6-73cf-441a-8eda-dc10b9de25e4-Sue_2x_3000_40_-46_els__d1_170_d2_170_d3_1...   \n",
       "\n",
       "                                                                                                                    params  \\\n",
       "1  {'main': {'fr': 30, 'p': 1, 'nb': 2, 'merge_thr': 0.85, 'rf': 15, 'stride': 6, 'K': 4, 'gSig': (4, 4), 'ssub': 1, 't...   \n",
       "2  {'main': {'fr': 30, 'p': 1, 'nb': 2, 'merge_thr': 0.8, 'rf': 15, 'stride': 6, 'K': 4, 'gSig': (6, 6), 'ssub': 1, 'ts...   \n",
       "3  {'main': {'fr': 30, 'p': 1, 'nb': 2, 'merge_thr': 0.95, 'rf': 15, 'stride': 6, 'K': 4, 'gSig': (6, 6), 'ssub': 1, 't...   \n",
       "4  {'main': {'fr': 30, 'p': 1, 'nb': 2, 'merge_thr': 0.8, 'rf': 15, 'stride': 6, 'K': 8, 'gSig': (6, 6), 'ssub': 1, 'ts...   \n",
       "5  {'main': {'fr': 30, 'p': 1, 'nb': 2, 'merge_thr': 0.95, 'rf': 15, 'stride': 6, 'K': 8, 'gSig': (6, 6), 'ssub': 1, 't...   \n",
       "6  {'main': {'fr': 30, 'p': 1, 'nb': 2, 'merge_thr': 0.8, 'rf': 15, 'stride': 6, 'K': 4, 'gSig': (8, 8), 'ssub': 1, 'ts...   \n",
       "7  {'main': {'fr': 30, 'p': 1, 'nb': 2, 'merge_thr': 0.95, 'rf': 15, 'stride': 6, 'K': 4, 'gSig': (8, 8), 'ssub': 1, 't...   \n",
       "8  {'main': {'fr': 30, 'p': 1, 'nb': 2, 'merge_thr': 0.8, 'rf': 15, 'stride': 6, 'K': 8, 'gSig': (8, 8), 'ssub': 1, 'ts...   \n",
       "9  {'main': {'fr': 30, 'p': 1, 'nb': 2, 'merge_thr': 0.95, 'rf': 15, 'stride': 6, 'K': 8, 'gSig': (8, 8), 'ssub': 1, 't...   \n",
       "\n",
       "                                                                                                                   outputs  \\\n",
       "1  {'mean-projection-path': 51fbd870-6072-4c32-9e37-928756227f2f/51fbd870-6072-4c32-9e37-928756227f2f_mean_projection.n...   \n",
       "2  {'mean-projection-path': 49475ead-203a-411f-9eae-7fe050621f27/49475ead-203a-411f-9eae-7fe050621f27_mean_projection.n...   \n",
       "3  {'mean-projection-path': 96a58ab3-fdff-4ece-9640-c0ab65c92337/96a58ab3-fdff-4ece-9640-c0ab65c92337_mean_projection.n...   \n",
       "4  {'mean-projection-path': 61cf64e3-4933-4e55-8e6b-1b4fc9282aea/61cf64e3-4933-4e55-8e6b-1b4fc9282aea_mean_projection.n...   \n",
       "5  {'mean-projection-path': 906758f8-daee-4711-af96-9bc5a2084d3d/906758f8-daee-4711-af96-9bc5a2084d3d_mean_projection.n...   \n",
       "6  {'mean-projection-path': 72732687-50c5-4ffd-aa36-d82a2e8a468a/72732687-50c5-4ffd-aa36-d82a2e8a468a_mean_projection.n...   \n",
       "7  {'mean-projection-path': 73b38310-e53e-451f-90f8-e387812fa408/73b38310-e53e-451f-90f8-e387812fa408_mean_projection.n...   \n",
       "8  {'mean-projection-path': 6b8e19a9-fec6-4025-9e3e-2cec4e2fa4c0/6b8e19a9-fec6-4025-9e3e-2cec4e2fa4c0_mean_projection.n...   \n",
       "9  {'mean-projection-path': 83f18dfd-29e6-47e1-bdb5-4039c2a09918/83f18dfd-29e6-47e1-bdb5-4039c2a09918_mean_projection.n...   \n",
       "\n",
       "            added_time             ran_time algo_duration comments  \\\n",
       "1  2023-01-10T23:31:21  2023-01-10T23:37:17     19.71 sec     None   \n",
       "2  2023-01-10T23:31:27  2023-01-10T23:37:41     20.79 sec     None   \n",
       "3  2023-01-10T23:31:27  2023-01-10T23:38:07     21.46 sec     None   \n",
       "4  2023-01-10T23:31:27  2023-01-10T23:38:33      22.7 sec     None   \n",
       "5  2023-01-10T23:31:27  2023-01-10T23:39:02      23.9 sec     None   \n",
       "6  2023-01-10T23:31:27  2023-01-10T23:39:28     22.45 sec     None   \n",
       "7  2023-01-10T23:31:27  2023-01-10T23:39:54     21.84 sec     None   \n",
       "8  2023-01-10T23:31:27  2023-01-10T23:40:24     24.52 sec     None   \n",
       "9  2023-01-10T23:31:27  2023-01-10T23:40:55     25.38 sec     None   \n",
       "\n",
       "                                   uuid  \n",
       "1  51fbd870-6072-4c32-9e37-928756227f2f  \n",
       "2  49475ead-203a-411f-9eae-7fe050621f27  \n",
       "3  96a58ab3-fdff-4ece-9640-c0ab65c92337  \n",
       "4  61cf64e3-4933-4e55-8e6b-1b4fc9282aea  \n",
       "5  906758f8-daee-4711-af96-9bc5a2084d3d  \n",
       "6  72732687-50c5-4ffd-aa36-d82a2e8a468a  \n",
       "7  73b38310-e53e-451f-90f8-e387812fa408  \n",
       "8  6b8e19a9-fec6-4025-9e3e-2cec4e2fa4c0  \n",
       "9  83f18dfd-29e6-47e1-bdb5-4039c2a09918  "
      ]
     },
     "execution_count": 6,
     "metadata": {},
     "output_type": "execute_result"
    }
   ],
   "source": [
    "# get a sub-dataframe of only cnmf items\n",
    "cnmf_items = df[df[\"algo\"] == \"cnmf\"]\n",
    "cnmf_items"
   ]
  },
  {
   "cell_type": "code",
   "execution_count": 11,
   "id": "1d60f604-91f6-43a3-b740-df801bd19b68",
   "metadata": {},
   "outputs": [
    {
     "name": "stdout",
     "output_type": "stream",
     "text": [
      "Decode mmap filename /home/kushal/caiman_data/mesmerize-batch/b4aa1ac6-73cf-441a-8eda-dc10b9de25e4/b4aa1ac6-73cf-441a-8eda-dc10b9de25e4-Sue_2x_3000_40_-46_els__d1_170_d2_170_d3_1_order_F_frames_3000.mmap\n"
     ]
    },
    {
     "data": {
      "application/vnd.jupyter.widget-view+json": {
       "model_id": "73d76b3c72d04c6b88b9c1357090625b",
       "version_major": 2,
       "version_minor": 0
      },
      "text/plain": [
       "RFBOutputContext()"
      ]
     },
     "metadata": {},
     "output_type": "display_data"
    },
    {
     "data": {
      "application/vnd.jupyter.widget-view+json": {
       "model_id": "bf78c4a2c9f34125828b6ae0686ad9e7",
       "version_major": 2,
       "version_minor": 0
      },
      "text/plain": [
       "VBox(children=(JupyterWgpuCanvas(), IntSlider(value=0, description='dimension: t', max=2999), FloatRangeSlider…"
      ]
     },
     "metadata": {},
     "output_type": "display_data"
    }
   ],
   "source": [
    "# since we're looking at CNMF output from the same movie, we can use any item to get the input movie\n",
    "movie = cnmf_items.iloc[0].caiman.get_input_movie()\n",
    "\n",
    "# we'll make a list of contours for each cnmf batch item\n",
    "items_contours = list()\n",
    "items_indices = list()\n",
    "\n",
    "for i, row in cnmf_items.iterrows():\n",
    "    items_indices.append(i)\n",
    "    contours, coms = row.cnmf.get_contours(\"good\", swap_dim=False)  # you can also pass \"bad\", \"all\" integer indices or a list/array of indices\n",
    "    items_contours.append(contours)\n",
    "\n",
    "movies = [movie] * len(items_contours)\n",
    "\n",
    "# make an image widget\n",
    "iw = ImageWidget(\n",
    "    movies, \n",
    "    window_funcs={\"t\": (np.mean, 13)},\n",
    "    vmin_vmax_sliders=True,\n",
    "    cmap=\"gnuplot2\"\n",
    ")\n",
    "\n",
    "# add contours to each subplot\n",
    "for i, subplot in enumerate(iw.plot):  # enumerate gives the iteration number\n",
    "    contours = items_contours[i]\n",
    "    index = items_indices[i]\n",
    "    \n",
    "    subplot.add_line_collection(contours, colors=\"w\", alpha=0.7)\n",
    "    subplot.set_title(f\"ix: {index}\")\n",
    "\n",
    "iw.show()"
   ]
  },
  {
   "cell_type": "markdown",
   "id": "7969b74f-be23-41f4-b205-761212a24aba",
   "metadata": {},
   "source": [
    "# Visualizing single items"
   ]
  },
  {
   "cell_type": "code",
   "execution_count": 13,
   "id": "91132418-82f8-4853-bd77-084a0b5e2915",
   "metadata": {
    "pycharm": {
     "name": "#%%\n"
    }
   },
   "outputs": [
    {
     "name": "stdout",
     "output_type": "stream",
     "text": [
      "Decode mmap filename /home/kushal/caiman_data/mesmerize-batch/b4aa1ac6-73cf-441a-8eda-dc10b9de25e4/b4aa1ac6-73cf-441a-8eda-dc10b9de25e4-Sue_2x_3000_40_-46_els__d1_170_d2_170_d3_1_order_F_frames_3000.mmap\n"
     ]
    }
   ],
   "source": [
    "# You can change this to plot the outputs for different batch items\n",
    "index = 1\n",
    "\n",
    "# get the motion corrected input movie as a memmap\n",
    "cnmf_movie = df.iloc[index].caiman.get_input_movie()\n",
    "\n",
    "# we can get the contours of the spatial components\n",
    "contours, coms = df.iloc[index].cnmf.get_contours(\"all\", swap_dim=False)\n",
    "\n",
    "# and temporal components\n",
    "temporal = df.iloc[index].cnmf.get_temporal(\"all\")\n",
    "\n",
    "ixs_good = df.iloc[index].cnmf.get_good_components()\n",
    "ixs_bad = df.iloc[index].cnmf.get_bad_components()"
   ]
  },
  {
   "cell_type": "markdown",
   "id": "cc84e4bb-a5ac-4eaf-94f3-05928e2b9f7b",
   "metadata": {
    "pycharm": {
     "name": "#%%\n"
    }
   },
   "source": [
    "### `ImageWidget` to view contours, and a simple `fastplotlib.Plot` to view temporal components"
   ]
  },
  {
   "cell_type": "code",
   "execution_count": 14,
   "id": "8f61a04d-8c27-4aa1-9955-3190a528dee0",
   "metadata": {},
   "outputs": [],
   "source": [
    "# LineSlider is very new and experimental and is likely to change\n",
    "# that's why it's not exposed as a top-level import\n",
    "from fastplotlib.graphics.line_slider import LineSlider"
   ]
  },
  {
   "cell_type": "code",
   "execution_count": 15,
   "id": "133fe390-988c-465f-a26f-552ac81d26ea",
   "metadata": {},
   "outputs": [
    {
     "data": {
      "application/vnd.jupyter.widget-view+json": {
       "model_id": "5eb12d13897f4e34974654177a04bb6c",
       "version_major": 2,
       "version_minor": 0
      },
      "text/plain": [
       "RFBOutputContext()"
      ]
     },
     "metadata": {},
     "output_type": "display_data"
    },
    {
     "data": {
      "application/vnd.jupyter.widget-view+json": {
       "model_id": "4b7afbcfc5f747bc898ba15486680e11",
       "version_major": 2,
       "version_minor": 0
      },
      "text/plain": [
       "RFBOutputContext()"
      ]
     },
     "metadata": {},
     "output_type": "display_data"
    },
    {
     "data": {
      "application/vnd.jupyter.widget-view+json": {
       "model_id": "8b6895fdd89c4f46bb17e6e0ce931c93",
       "version_major": 2,
       "version_minor": 0
      },
      "text/plain": [
       "VBox(children=(JupyterWgpuCanvas(), VBox(children=(JupyterWgpuCanvas(), IntSlider(value=0, description='dimens…"
      ]
     },
     "metadata": {},
     "output_type": "display_data"
    }
   ],
   "source": [
    "# for the image data and contours\n",
    "iw_cnmf = ImageWidget(cnmf_movie, vmin_vmax_sliders=True, cmap=\"gnuplot2\")\n",
    "\n",
    "# add good contours to the plot within the widget\n",
    "contours_graphic = iw_cnmf.plot.add_line_collection(contours, colors=\"cyan\", name=\"contours\")\n",
    "contours_graphic[ixs_good].colors = \"cyan\"\n",
    "contours_graphic[ixs_bad].colors = \"magenta\"\n",
    "\n",
    "\n",
    "# temporal plot\n",
    "plot_temporal = Plot()\n",
    "\n",
    "temporal_graphic = plot_temporal.add_line_collection(temporal, colors=\"cyan\", name=\"temporal\")\n",
    "temporal_graphic[ixs_good].colors = \"cyan\"\n",
    "temporal_graphic[ixs_bad].colors = \"magenta\"\n",
    "\n",
    "# a vertical line that is syncronized to the image widget \"t\" (timepoint) slider\n",
    "_ls = LineSlider(x_pos=0, bounds=(temporal.min(), temporal.max()), slider=iw_cnmf.sliders[\"t\"])\n",
    "plot_temporal.add_graphic(_ls)\n",
    "\n",
    "# stack them\n",
    "VBox([plot_temporal.show(), iw_cnmf.show()])"
   ]
  },
  {
   "cell_type": "markdown",
   "id": "4df8e635-4992-4827-b070-6c285c428c8a",
   "metadata": {},
   "source": [
    "Auto-scale temporal plot, you can only do this after calling `show()`"
   ]
  },
  {
   "cell_type": "code",
   "execution_count": 16,
   "id": "9d69932b-ea97-4af1-a27f-46649a6b1c9a",
   "metadata": {},
   "outputs": [],
   "source": [
    "plot_temporal.auto_scale()\n",
    "plot_temporal.camera.scale.x = 0.85"
   ]
  },
  {
   "cell_type": "markdown",
   "id": "085920a1-dc24-4367-aa92-62e1ef5c1da3",
   "metadata": {},
   "source": [
    "# Interactivity"
   ]
  },
  {
   "cell_type": "code",
   "execution_count": 17,
   "id": "2d4dc4b4-acc6-40fd-b1d5-542106c21540",
   "metadata": {},
   "outputs": [],
   "source": [
    "# don't worry about understanding this function\n",
    "def euclidean(source, target, event, new_data):\n",
    "    \"\"\"maps click events to contour\"\"\"\n",
    "    # calculate coms of line collection\n",
    "    indices = np.array(event.pick_info[\"index\"])\n",
    "    \n",
    "    coms = list()\n",
    "\n",
    "    for contour in target.graphics:\n",
    "        coors = contour.data()[~np.isnan(contour.data()).any(axis=1)]\n",
    "        com = coors.mean(axis=0)\n",
    "        coms.append(com)\n",
    "\n",
    "    # euclidean distance to find closest index of com \n",
    "    indices = np.append(indices, [0])\n",
    "    \n",
    "    ix = int(np.linalg.norm((coms - indices), axis=1).argsort()[0])\n",
    "    \n",
    "    target._set_feature(feature=\"colors\", new_data=new_data, indices=ix)\n",
    "    \n",
    "    return None"
   ]
  },
  {
   "cell_type": "code",
   "execution_count": 18,
   "id": "1633e5b1-fca2-4e21-a55d-a45a2f482c54",
   "metadata": {},
   "outputs": [
    {
     "name": "stderr",
     "output_type": "stream",
     "text": [
      "/home/kushal/Insync/kushalkolar@gmail.com/drive/repos/fastplotlib/fastplotlib/graphics/features/_base.py:87: UserWarning: Event handler <bound method Interaction.event_handler of 'contours': LineCollection @ 0x7f5a13ca7d00\n",
      "Collection of <155> Graphics> is already registered.\n",
      "  warn(f\"Event handler {handler} is already registered.\")\n"
     ]
    }
   ],
   "source": [
    "# so we can view them one by one, first hide all of them\n",
    "temporal_graphic[:].present = False\n",
    "\n",
    "image_graphic = iw_cnmf.plot[\"image\"]\n",
    "\n",
    "# link image to contours\n",
    "image_graphic.link(\n",
    "    \"click\",\n",
    "    target=contours_graphic,\n",
    "    feature=\"colors\", \n",
    "    new_data=\"w\", \n",
    "    callback=euclidean\n",
    ")\n",
    "\n",
    "# link contour color changes (which are triggered by the click events as defined above) to everything else\n",
    "\n",
    "# thickness of contour\n",
    "contours_graphic.link(\"colors\", target=contours_graphic, feature=\"thickness\", new_data=5)\n",
    "\n",
    "# toggle temporal component when contour changes color\n",
    "contours_graphic.link(\"colors\", target=temporal_graphic, feature=\"present\", new_data=True)\n",
    "# autoscale temporal plot to the current temporal component\n",
    "temporal_graphic[:].present.add_event_handler(plot_temporal.auto_scale)"
   ]
  },
  {
   "cell_type": "markdown",
   "id": "7ecf6c63-8190-4e72-bcdb-eca0304d891d",
   "metadata": {},
   "source": [
    "Close canvases if you GPU is slow"
   ]
  },
  {
   "cell_type": "code",
   "execution_count": 12,
   "id": "51102b50-e146-4c25-94ee-4a532cf4a27b",
   "metadata": {
    "pycharm": {
     "name": "#%%\n"
    }
   },
   "outputs": [],
   "source": [
    "plot_temporal.canvas.close()\n",
    "iw_cnmf.plot.canvas.close()"
   ]
  },
  {
   "cell_type": "markdown",
   "id": "50012ed6-ffb9-4a44-9f41-554fb96a88a0",
   "metadata": {
    "pycharm": {
     "name": "#%% md\n"
    }
   },
   "source": [
    "# View the reconstructed movie, residuals, and reconstructed background\n",
    "\n",
    "### We can get each of these as a mesmerize `LazyArray` which allows fast visualization of larger-than-RAM arrays that can be computed on the fly."
   ]
  },
  {
   "cell_type": "code",
   "execution_count": 12,
   "id": "9294d10b-4d09-467e-b9f3-63ef7b55b766",
   "metadata": {
    "pycharm": {
     "name": "#%%\n"
    }
   },
   "outputs": [
    {
     "data": {
      "text/plain": [
       "LazyArrayRCM @0x7f8566f7e380\n",
       "LazyArray for reconstructed movie, i.e. A ⊗ C\n",
       "Frames are computed only upon indexing\n",
       "shape [frames, x, y]: (3000, 170, 170)\n",
       "n_components: 155"
      ]
     },
     "execution_count": 12,
     "metadata": {},
     "output_type": "execute_result"
    }
   ],
   "source": [
    "# reconstructed movie, A * C\n",
    "rcm = df.iloc[index].cnmf.get_rcm()\n",
    "rcm"
   ]
  },
  {
   "cell_type": "markdown",
   "id": "2f1504c2-7f1a-45e0-88ef-69feb629ba1d",
   "metadata": {},
   "source": [
    "### `LazyArray` behaves similar to numpy arrays. But frames are computed only uppon indexing."
   ]
  },
  {
   "cell_type": "code",
   "execution_count": 13,
   "id": "6cf04c45-f1ba-4fe5-b4c8-95ba9e6d0a2e",
   "metadata": {},
   "outputs": [
    {
     "data": {
      "text/plain": [
       "(170, 170)"
      ]
     },
     "execution_count": 13,
     "metadata": {},
     "output_type": "execute_result"
    }
   ],
   "source": [
    "rcm[100].shape"
   ]
  },
  {
   "cell_type": "code",
   "execution_count": 14,
   "id": "f35fd885-bf63-4df2-9eed-7c4d24bf9cb1",
   "metadata": {},
   "outputs": [
    {
     "data": {
      "text/plain": [
       "(3000, 170, 170)"
      ]
     },
     "execution_count": 14,
     "metadata": {},
     "output_type": "execute_result"
    }
   ],
   "source": [
    "rcm.shape"
   ]
  },
  {
   "cell_type": "markdown",
   "id": "34dd3cc2-bca9-4f39-941f-33a090b8f8df",
   "metadata": {
    "tags": []
   },
   "source": [
    "### Get size of the full array in gigabytes if it were entirely stored in RAM. This can be very large for real daa."
   ]
  },
  {
   "cell_type": "code",
   "execution_count": 15,
   "id": "f3f708fe-e3d5-4daa-94d4-ab52f40b0817",
   "metadata": {},
   "outputs": [
    {
     "data": {
      "text/plain": [
       "0.6936"
      ]
     },
     "execution_count": 15,
     "metadata": {},
     "output_type": "execute_result"
    }
   ],
   "source": [
    "rcm.nbytes_gb"
   ]
  },
  {
   "cell_type": "markdown",
   "id": "1ba34cb1-7a82-41bf-90d4-423cad3875c2",
   "metadata": {},
   "source": [
    "### Some lazy arrays contain pre-computed min and max for the array, and other useful properties"
   ]
  },
  {
   "cell_type": "code",
   "execution_count": 16,
   "id": "2d1d4b79-8d42-4284-806a-4ed93ab54259",
   "metadata": {},
   "outputs": [
    {
     "data": {
      "text/plain": [
       "1723.8088634442593"
      ]
     },
     "execution_count": 16,
     "metadata": {},
     "output_type": "execute_result"
    }
   ],
   "source": [
    "rcm.max"
   ]
  },
  {
   "cell_type": "code",
   "execution_count": 17,
   "id": "66a293c3-9c0e-477c-ab30-bc476352656e",
   "metadata": {},
   "outputs": [
    {
     "data": {
      "application/vnd.jupyter.widget-view+json": {
       "model_id": "8aa742c1043249da81ec514591583c28",
       "version_major": 2,
       "version_minor": 0
      },
      "text/plain": [
       "RFBOutputContext()"
      ]
     },
     "metadata": {},
     "output_type": "display_data"
    },
    {
     "data": {
      "text/html": [
       "<div class='initial-snapshot-9092112fb88e4c1686d72bf324c56fc0' style='position:relative;'><img src='data:image/png;base64,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' style='width:500.0px;height:300.0px;' /><div style='position: absolute; top:0; left:0; padding:1px 3px; background: #777; color:#fff; font-size: 90%; font-family:sans-serif; '>initial snapshot</div></div>"
      ],
      "text/plain": [
       "<jupyter_rfb._utils.Snapshot object>"
      ]
     },
     "metadata": {},
     "output_type": "display_data"
    },
    {
     "data": {
      "application/vnd.jupyter.widget-view+json": {
       "model_id": "9092112fb88e4c1686d72bf324c56fc0",
       "version_major": 2,
       "version_minor": 0
      },
      "text/plain": [
       "JupyterWgpuCanvas()"
      ]
     },
     "execution_count": 17,
     "metadata": {},
     "output_type": "execute_result"
    }
   ],
   "source": [
    "gp = GridPlot((2, 2), controllers=\"sync\")\n",
    "\n",
    "for sp, img in zip(gp, [rcm.max_image, rcm.min_image, rcm.mean_image, rcm.std_image]):\n",
    "    sp.add_image(img)\n",
    "    \n",
    "gp.show()"
   ]
  },
  {
   "cell_type": "code",
   "execution_count": 19,
   "id": "889817d7-a4a3-4a60-8087-fe6f13f165d1",
   "metadata": {},
   "outputs": [],
   "source": [
    "gp.canvas.close()"
   ]
  },
  {
   "cell_type": "markdown",
   "id": "111e2a5b-fa04-4e70-a3f2-9c01ddf551fb",
   "metadata": {},
   "source": [
    "# Visualize RCM, RCB and Residuals"
   ]
  },
  {
   "cell_type": "code",
   "execution_count": 18,
   "id": "ba8f33fe-a170-45cb-8e89-623194117446",
   "metadata": {},
   "outputs": [
    {
     "name": "stdout",
     "output_type": "stream",
     "text": [
      "Decode mmap filename /home/kushal/caiman_data/mesmerize-batch/b4aa1ac6-73cf-441a-8eda-dc10b9de25e4/b4aa1ac6-73cf-441a-8eda-dc10b9de25e4-Sue_2x_3000_40_-46_els__d1_170_d2_170_d3_1_order_F_frames_3000.mmap\n"
     ]
    },
    {
     "data": {
      "application/vnd.jupyter.widget-view+json": {
       "model_id": "6209c96048b44986a24a3f75c82bfe62",
       "version_major": 2,
       "version_minor": 0
      },
      "text/plain": [
       "RFBOutputContext()"
      ]
     },
     "metadata": {},
     "output_type": "display_data"
    },
    {
     "name": "stderr",
     "output_type": "stream",
     "text": [
      "/home/kushal/Insync/kushalkolar@gmail.com/drive/repos/mesmerize-core/mesmerize_core/arrays/_cnmf.py:246: UserWarning: min and max not yet implemented for LazyArrayResiduals. Using first frame of raw movie\n",
      "  warn(\"min and max not yet implemented for LazyArrayResiduals. \"\n",
      "/home/kushal/Insync/kushalkolar@gmail.com/drive/repos/mesmerize-core/mesmerize_core/arrays/_cnmf.py:252: UserWarning: min and max not yet implemented for LazyArrayResiduals. Using first frame of raw movie\n",
      "  warn(\"min and max not yet implemented for LazyArrayResiduals. \"\n"
     ]
    },
    {
     "data": {
      "application/vnd.jupyter.widget-view+json": {
       "model_id": "7fee2642472a41b28dcfeec4a308b30c",
       "version_major": 2,
       "version_minor": 0
      },
      "text/plain": [
       "VBox(children=(JupyterWgpuCanvas(), IntSlider(value=0, description='dimension: t', max=2999), FloatRangeSlider…"
      ]
     },
     "metadata": {},
     "output_type": "display_data"
    }
   ],
   "source": [
    "rcb = df.iloc[index].cnmf.get_rcb()\n",
    "residuals = df.iloc[index].cnmf.get_residuals()\n",
    "\n",
    "iw_cnmf_grid = ImageWidget(\n",
    "    data=[cnmf_movie, rcm, rcb, residuals],\n",
    "    vmin_vmax_sliders=True,\n",
    "    cmap=\"gnuplot2\",\n",
    "    names=[\"movie\", \"A * C\", \"b * f\", \"residuals\"]\n",
    ")\n",
    "\n",
    "for subplot in iw_cnmf_grid.plot:\n",
    "    _contours = subplot.add_line_collection(contours, thickness=1.0, name=\"contours\")\n",
    "    _contours[ixs_good].colors = \"cyan\"\n",
    "    _contours[ixs_bad].colors = \"magenta\"\n",
    "\n",
    "iw_cnmf_grid.show()"
   ]
  },
  {
   "cell_type": "code",
   "execution_count": 19,
   "id": "cb3b4e92-6f4b-4538-aeae-3a8d11115fe7",
   "metadata": {},
   "outputs": [],
   "source": [
    "# temporarily hide bad components\n",
    "for subplot in iw_cnmf_grid.plot:\n",
    "    subplot[\"contours\"][ixs_bad].present = False"
   ]
  },
  {
   "cell_type": "code",
   "execution_count": 20,
   "id": "d7a8185a-5a82-43ae-8a08-fb9aba8972ff",
   "metadata": {},
   "outputs": [],
   "source": [
    "   # hide good components\n",
    "for subplot in iw_cnmf_grid.plot:\n",
    "    subplot[\"contours\"][ixs_good].present = False"
   ]
  },
  {
   "cell_type": "code",
   "execution_count": 21,
   "id": "3da3f01e-aae4-4525-99d1-f0ec8a03277e",
   "metadata": {},
   "outputs": [],
   "source": [
    "# make everything un-hidden, indexing [:] means \"everything\"\n",
    "for subplot in iw_cnmf_grid.plot:\n",
    "    subplot[\"contours\"][:].present = True"
   ]
  },
  {
   "cell_type": "markdown",
   "id": "84301fdf-4d50-4157-a1ae-a76187da11e5",
   "metadata": {},
   "source": [
    "### Close the canvas to free up the GPU if necessary "
   ]
  },
  {
   "cell_type": "code",
   "execution_count": 21,
   "id": "69359b5b-aa25-4e3a-96ca-93440f82944c",
   "metadata": {},
   "outputs": [],
   "source": [
    "iw_cnmf_grid.plot.canvas.close()"
   ]
  },
  {
   "cell_type": "markdown",
   "id": "f19ab110-3c2f-4d0c-b21a-59641728424c",
   "metadata": {},
   "source": [
    "# Visualize movie, rcm, and stack of temporal components\n",
    "\n",
    "This example shows only good components, but as shown before you can also compare between good and bad components if you want. You could also use a `GridPlot` or `ImageWidget` to view the contours on top of the residuals and reconstructed background to evaluate if CNMF captured everything."
   ]
  },
  {
   "cell_type": "code",
   "execution_count": 22,
   "id": "477fb129-4453-4fa6-ae29-7dc3ba08568b",
   "metadata": {},
   "outputs": [
    {
     "data": {
      "application/vnd.jupyter.widget-view+json": {
       "model_id": "5ba1fb0d545f4023a009b82591ff3f08",
       "version_major": 2,
       "version_minor": 0
      },
      "text/plain": [
       "RFBOutputContext()"
      ]
     },
     "metadata": {},
     "output_type": "display_data"
    },
    {
     "data": {
      "application/vnd.jupyter.widget-view+json": {
       "model_id": "933762fb79c64215a1774842a582cf09",
       "version_major": 2,
       "version_minor": 0
      },
      "text/plain": [
       "RFBOutputContext()"
      ]
     },
     "metadata": {},
     "output_type": "display_data"
    },
    {
     "data": {
      "application/vnd.jupyter.widget-view+json": {
       "model_id": "2019d81468fe40c8803ee89c210677ca",
       "version_major": 2,
       "version_minor": 0
      },
      "text/plain": [
       "VBox(children=(JupyterWgpuCanvas(), JupyterWgpuCanvas(), IntSlider(value=0, max=2999)))"
      ]
     },
     "metadata": {},
     "output_type": "display_data"
    }
   ],
   "source": [
    "# 1 row, 3 columns, sync the first 2 subplots plots\n",
    "cnmf_grid_more = GridPlot((1, 3), controllers=[[0, 0, 1]], names=[[\"movie\", \"rcm\", \"temporal\"]])\n",
    "\n",
    "# movie and rcm, rcm is a lazy array and behaves similar to numpy arrays\n",
    "movie_graphic = cnmf_grid_more[\"movie\"].add_image(cnmf_movie[0], cmap=\"gnuplot2\")\n",
    "rcm_graphic = cnmf_grid_more[\"rcm\"].add_image(rcm[0], cmap=\"gnuplot2\")\n",
    "\n",
    "# contours for good components\n",
    "contours_good, coms = df.iloc[index].cnmf.get_contours(\"good\", swap_dim=False)\n",
    "\n",
    "# random colors for contours and temporal components\n",
    "# make an RGBA array for each color\n",
    "rand_colors = np.random.rand(len(contours_good), 4)  # [n_contours, RGBA]\n",
    "rand_colors[:, -1] = 1 # set alpha = 1\n",
    "\n",
    "# get temporal of only good components\n",
    "temporal_good = df.iloc[index].cnmf.get_temporal(\"good\")\n",
    "\n",
    "# add contours to both movie and rcm subplots\n",
    "contours_movie = cnmf_grid_more[\"movie\"].add_line_collection(contours_good, colors=rand_colors)\n",
    "contours_rcm = cnmf_grid_more[\"rcm\"].add_line_collection(contours_good, colors=rand_colors)\n",
    "\n",
    "# line stack of temporal components\n",
    "temporal_stack = cnmf_grid_more[\"temporal\"].add_line_stack(temporal_good, colors=rand_colors, thickness=3.0, separate=15)\n",
    "\n",
    "# plot single temporal, just like before\n",
    "plot_temporal_single = Plot()\n",
    "temporal_graphic = plot_temporal_single.add_line_collection(temporal_good, colors=rand_colors)\n",
    "\n",
    "# since this is a GridPlot and not an ImageWidget we need to define sliders\n",
    "slider = IntSlider(min=0, max=cnmf_movie.shape[0] - 1, value=0, step=1)\n",
    "\n",
    "# vertical line sliders\n",
    "_ls = LineSlider(x_pos=0, bounds=(temporal.min(), temporal.max()), slider=slider)\n",
    "_ls2 = LineSlider(x_pos=0, bounds=(temporal.min(), temporal.max() + temporal_stack.graphics[-1].position.y), slider=slider)\n",
    "plot_temporal_single.add_graphic(_ls)\n",
    "cnmf_grid_more[\"temporal\"].add_graphic(_ls2)\n",
    "\n",
    "# function to update each frame\n",
    "def update_frame(change):\n",
    "    ix = change[\"new\"]\n",
    "    movie_graphic.data = cnmf_movie[ix]\n",
    "    rcm_graphic.data = rcm[ix]\n",
    "    \n",
    "slider.observe(update_frame, \"value\")\n",
    "\n",
    "@plot_temporal_single.renderer.add_event_handler(\"resize\")\n",
    "def update_slider_width(*args):\n",
    "    width, h = plot_temporal_single.renderer.logical_size\n",
    "    slider.layout = Layout(width=f\"{width}px\")\n",
    "    \n",
    "VBox([plot_temporal_single.show(), cnmf_grid_more.show(), slider])"
   ]
  },
  {
   "cell_type": "markdown",
   "id": "5c5107a2-6245-4960-a265-6de869de8228",
   "metadata": {},
   "source": [
    "### autoscaling"
   ]
  },
  {
   "cell_type": "code",
   "execution_count": 23,
   "id": "514834da-9f95-44f1-abd3-b90c58d3a9b9",
   "metadata": {},
   "outputs": [],
   "source": [
    "plot_temporal_single.auto_scale()\n",
    "plot_temporal_single.camera.scale.x = 0.85\n",
    "cnmf_grid_more[\"temporal\"].auto_scale()"
   ]
  },
  {
   "cell_type": "markdown",
   "id": "8dccee77-ee82-4557-95ac-e80f363c2aee",
   "metadata": {},
   "source": [
    "### Interactivity just like before"
   ]
  },
  {
   "cell_type": "code",
   "execution_count": 24,
   "id": "36ff16c2-7675-4f2f-9b3c-26699e36e305",
   "metadata": {},
   "outputs": [
    {
     "name": "stderr",
     "output_type": "stream",
     "text": [
      "/home/kushal/Insync/kushalkolar@gmail.com/drive/repos/fastplotlib/fastplotlib/graphics/features/_base.py:87: UserWarning: Event handler <bound method Interaction.event_handler of LineCollection @ 0x7f8501c5fc10\n",
      "Collection of <71> Graphics> is already registered.\n",
      "  warn(f\"Event handler {handler} is already registered.\")\n",
      "/home/kushal/Insync/kushalkolar@gmail.com/drive/repos/fastplotlib/fastplotlib/graphics/features/_base.py:87: UserWarning: Event handler <bound method Interaction.event_handler of LineCollection @ 0x7f8531f57ca0\n",
      "Collection of <71> Graphics> is already registered.\n",
      "  warn(f\"Event handler {handler} is already registered.\")\n",
      "/home/kushal/Insync/kushalkolar@gmail.com/drive/repos/fastplotlib/fastplotlib/graphics/features/_base.py:87: UserWarning: Event handler <bound method Interaction.event_handler of LineStack @ 0x7f8501b95900\n",
      "Collection of <71> Graphics> is already registered.\n",
      "  warn(f\"Event handler {handler} is already registered.\")\n"
     ]
    }
   ],
   "source": [
    "# so we can view them one by one, first hide all of them\n",
    "temporal_graphic[:].present = False\n",
    "\n",
    "# link image to contours\n",
    "movie_graphic.link(\n",
    "    \"click\",\n",
    "    target=contours_movie,\n",
    "    feature=\"colors\", \n",
    "    new_data=\"w\", \n",
    "    callback=euclidean  # we cam re-use it from before\n",
    ")\n",
    "\n",
    "# link image to contours\n",
    "rcm_graphic.link(\n",
    "    \"click\",\n",
    "    target=contours_rcm,\n",
    "    feature=\"colors\", \n",
    "    new_data=\"w\", \n",
    "    callback=euclidean  # we cam re-use it from before\n",
    ")\n",
    "\n",
    "# contours colors -> contor thickness\n",
    "contours_movie.link(\"colors\", target=contours_movie, feature=\"thickness\", new_data=5)\n",
    "contours_rcm.link(\"colors\", target=contours_rcm, feature=\"thickness\", new_data=5)\n",
    "\n",
    "# contours_movie <-> contours_rcm\n",
    "contours_rcm.link(\"colors\", target=contours_movie, feature=\"colors\", new_data=\"w\", bidirectional=True)\n",
    "\n",
    "# temporal stack events\n",
    "temporal_stack.link(\"click\", target=temporal_stack, feature=\"colors\", new_data=\"w\")\n",
    "temporal_stack.link(\"colors\", target=temporal_stack, feature=\"thickness\", new_data=4)\n",
    "\n",
    "# contours <-> temporal stack\n",
    "contours_movie.link(\"colors\", target=temporal_stack, feature=\"colors\", new_data=\"w\", bidirectional=True)\n",
    "\n",
    "# temporal stack -> temporal single\n",
    "temporal_stack.link(\"colors\", target=temporal_graphic, feature=\"present\", new_data=True)\n",
    "\n",
    "# autoscale temporal plot to the current temporal component\n",
    "temporal_graphic[:].present.add_event_handler(plot_temporal_single.auto_scale)"
   ]
  },
  {
   "cell_type": "code",
   "execution_count": 25,
   "id": "5795ad78-2f64-4a0b-8a00-c743a45218f8",
   "metadata": {},
   "outputs": [],
   "source": [
    "plot_temporal_single.canvas.close()\n",
    "cnmf_grid_more.canvas.close()"
   ]
  }
 ],
 "metadata": {
  "kernelspec": {
   "display_name": "Python 3 (ipykernel)",
   "language": "python",
   "name": "python3"
  },
  "language_info": {
   "codemirror_mode": {
    "name": "ipython",
    "version": 3
   },
   "file_extension": ".py",
   "mimetype": "text/x-python",
   "name": "python",
   "nbconvert_exporter": "python",
   "pygments_lexer": "ipython3",
   "version": "3.10.5"
  }
 },
 "nbformat": 4,
 "nbformat_minor": 5
}
